{
 "cells": [
  {
   "cell_type": "markdown",
   "metadata": {},
   "source": [
    "# openML"
   ]
  },
  {
   "cell_type": "markdown",
   "metadata": {},
   "source": [
    "         pip install openml"
   ]
  },
  {
   "cell_type": "code",
   "execution_count": 4,
   "metadata": {},
   "outputs": [
    {
     "name": "stderr",
     "output_type": "stream",
     "text": [
      "/tmp/ipykernel_458015/3969434878.py:4: FutureWarning: Support for `output_format` of 'dict' will be removed in 0.15 and pandas dataframes will be returned instead. To ensure your code will continue to work, use `output_format`='dataframe'.\n",
      "  datasets = openml.datasets.list_datasets()\n"
     ]
    },
    {
     "name": "stdout",
     "output_type": "stream",
     "text": [
      "Total number of datasets: 5723\n",
      "ID: 2\n",
      "Name: anneal\n",
      "Number of instances: 898.0\n",
      "Number of features: 39.0\n",
      "Number of classes: 5.0\n",
      "Default target attribute: N/A\n",
      "----------------------------------------\n",
      "ID: 3\n",
      "Name: kr-vs-kp\n",
      "Number of instances: 3196.0\n",
      "Number of features: 37.0\n",
      "Number of classes: 2.0\n",
      "Default target attribute: N/A\n",
      "----------------------------------------\n",
      "ID: 4\n",
      "Name: labor\n",
      "Number of instances: 57.0\n",
      "Number of features: 17.0\n",
      "Number of classes: 2.0\n",
      "Default target attribute: N/A\n",
      "----------------------------------------\n",
      "ID: 5\n",
      "Name: arrhythmia\n",
      "Number of instances: 452.0\n",
      "Number of features: 280.0\n",
      "Number of classes: 13.0\n",
      "Default target attribute: N/A\n",
      "----------------------------------------\n",
      "ID: 6\n",
      "Name: letter\n",
      "Number of instances: 20000.0\n",
      "Number of features: 17.0\n",
      "Number of classes: 26.0\n",
      "Default target attribute: N/A\n",
      "----------------------------------------\n",
      "ID: 7\n",
      "Name: audiology\n",
      "Number of instances: 226.0\n",
      "Number of features: 70.0\n",
      "Number of classes: 24.0\n",
      "Default target attribute: N/A\n",
      "----------------------------------------\n",
      "ID: 8\n",
      "Name: liver-disorders\n",
      "Number of instances: 345.0\n",
      "Number of features: 6.0\n",
      "Number of classes: 0.0\n",
      "Default target attribute: N/A\n",
      "----------------------------------------\n",
      "ID: 9\n",
      "Name: autos\n",
      "Number of instances: 205.0\n",
      "Number of features: 26.0\n",
      "Number of classes: 6.0\n",
      "Default target attribute: N/A\n",
      "----------------------------------------\n",
      "ID: 10\n",
      "Name: lymph\n",
      "Number of instances: 148.0\n",
      "Number of features: 19.0\n",
      "Number of classes: 4.0\n",
      "Default target attribute: N/A\n",
      "----------------------------------------\n",
      "ID: 11\n",
      "Name: balance-scale\n",
      "Number of instances: 625.0\n",
      "Number of features: 5.0\n",
      "Number of classes: 3.0\n",
      "Default target attribute: N/A\n",
      "----------------------------------------\n"
     ]
    }
   ],
   "source": [
    "import openml\n",
    "\n",
    "# Fetch the list of all datasets\n",
    "datasets = openml.datasets.list_datasets()\n",
    "\n",
    "# Print the total number of datasets\n",
    "print(f\"Total number of datasets: {len(datasets)}\")\n",
    "\n",
    "# Display some information about the first few datasets\n",
    "for dataset_id, dataset_info in list(datasets.items())[:10]:\n",
    "    print(f\"ID: {dataset_id}\")\n",
    "    print(f\"Name: {dataset_info['name']}\")\n",
    "    print(f\"Number of instances: {dataset_info.get('NumberOfInstances', 'N/A')}\")\n",
    "    print(f\"Number of features: {dataset_info.get('NumberOfFeatures', 'N/A')}\")\n",
    "    print(f\"Number of classes: {dataset_info.get('NumberOfClasses', 'N/A')}\")\n",
    "    print(f\"Default target attribute: {dataset_info.get('default_target_attribute', 'N/A')}\")\n",
    "    print(\"-\" * 40)\n"
   ]
  }
 ],
 "metadata": {
  "kernelspec": {
   "display_name": "Python 3",
   "language": "python",
   "name": "python3"
  },
  "language_info": {
   "codemirror_mode": {
    "name": "ipython",
    "version": 3
   },
   "file_extension": ".py",
   "mimetype": "text/x-python",
   "name": "python",
   "nbconvert_exporter": "python",
   "pygments_lexer": "ipython3",
   "version": "3.11.8"
  }
 },
 "nbformat": 4,
 "nbformat_minor": 2
}
