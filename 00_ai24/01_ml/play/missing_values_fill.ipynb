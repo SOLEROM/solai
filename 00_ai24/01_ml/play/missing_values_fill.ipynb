{
 "cells": [
  {
   "cell_type": "markdown",
   "metadata": {},
   "source": [
    "# missing values handeling"
   ]
  },
  {
   "cell_type": "code",
   "execution_count": null,
   "metadata": {},
   "outputs": [],
   "source": [
    "# define heatmap to be used and show visualization of the data\n",
    "\n",
    "TBD\n",
    "\n",
    "mInvData = dfData.isna() #<! The logical matrix of invalid values\n",
    "\n",
    "hF, hA = plt.subplots(figsize = FIG_SIZE_DEF)\n",
    "sns.heatmap(data = mInvData, square = False, ax = hA)\n",
    "hA.set_title('Invalid Data Map')\n",
    "\n",
    "plt.show()"
   ]
  },
  {
   "cell_type": "markdown",
   "metadata": {},
   "source": [
    "# DataFrame with Missing Values"
   ]
  },
  {
   "cell_type": "code",
   "execution_count": 1,
   "metadata": {},
   "outputs": [
    {
     "name": "stdout",
     "output_type": "stream",
     "text": [
      "    Age   Salary  YearsAtCompany\n",
      "0  25.0  50000.0             5.0\n",
      "1  27.0  54000.0             7.0\n",
      "2  29.0      NaN            10.0\n",
      "3   NaN  65000.0             3.0\n",
      "4  35.0      NaN             NaN\n",
      "5  36.0  68000.0             8.0\n",
      "6   NaN  72000.0             9.0\n"
     ]
    }
   ],
   "source": [
    "import numpy as np\n",
    "import pandas as pd\n",
    "\n",
    "# Create a DataFrame\n",
    "data = {\n",
    "    'Age': [25, 27, 29, np.nan, 35, 36, np.nan],\n",
    "    'Salary': [50000, 54000, np.nan, 65000, np.nan, 68000, 72000],\n",
    "    'YearsAtCompany': [5, 7, 10, 3, np.nan, 8, 9]\n",
    "}\n",
    "df = pd.DataFrame(data)\n",
    "\n",
    "print(df)\n"
   ]
  },
  {
   "cell_type": "markdown",
   "metadata": {},
   "source": [
    "## Imputation with SimpleImputer"
   ]
  },
  {
   "cell_type": "code",
   "execution_count": 2,
   "metadata": {},
   "outputs": [
    {
     "name": "stdout",
     "output_type": "stream",
     "text": [
      "    Age   Salary  YearsAtCompany\n",
      "0  25.0  50000.0             5.0\n",
      "1  27.0  54000.0             7.0\n",
      "2  29.0  61800.0            10.0\n",
      "3  30.4  65000.0             3.0\n",
      "4  35.0  61800.0             7.0\n",
      "5  36.0  68000.0             8.0\n",
      "6  30.4  72000.0             9.0\n"
     ]
    }
   ],
   "source": [
    "from sklearn.impute import SimpleImputer\n",
    "\n",
    "# Using SimpleImputer to replace missing values with the mean of each column\n",
    "imputer = SimpleImputer(strategy='mean')\n",
    "df_simple = pd.DataFrame(imputer.fit_transform(df), columns=df.columns)\n",
    "\n",
    "print(df_simple)\n"
   ]
  },
  {
   "cell_type": "markdown",
   "metadata": {},
   "source": [
    "## imputation with IterativeImputer"
   ]
  },
  {
   "cell_type": "code",
   "execution_count": 3,
   "metadata": {},
   "outputs": [
    {
     "name": "stdout",
     "output_type": "stream",
     "text": [
      "         Age        Salary  YearsAtCompany\n",
      "0  25.000000  50000.000000        5.000000\n",
      "1  27.000000  54000.000000        7.000000\n",
      "2  29.000000  56926.492883       10.000000\n",
      "3  34.043225  65000.000000        3.000000\n",
      "4  35.000000  66528.385435        7.340165\n",
      "5  36.000000  68000.000000        8.000000\n",
      "6  38.369582  72000.000000        9.000000\n"
     ]
    }
   ],
   "source": [
    "from sklearn.experimental import enable_iterative_imputer\n",
    "from sklearn.impute import IterativeImputer\n",
    "\n",
    "# Using IterativeImputer which models each feature with missing values as a function of other features\n",
    "iterative_imputer = IterativeImputer()\n",
    "df_iterative = pd.DataFrame(iterative_imputer.fit_transform(df), columns=df.columns)\n",
    "\n",
    "print(df_iterative)\n"
   ]
  },
  {
   "cell_type": "markdown",
   "metadata": {},
   "source": [
    "## Imputation with KNNImputer"
   ]
  },
  {
   "cell_type": "code",
   "execution_count": 4,
   "metadata": {},
   "outputs": [
    {
     "name": "stdout",
     "output_type": "stream",
     "text": [
      "    Age   Salary  YearsAtCompany\n",
      "0  25.0  50000.0             5.0\n",
      "1  27.0  54000.0             7.0\n",
      "2  29.0  63000.0            10.0\n",
      "3  32.5  65000.0             3.0\n",
      "4  35.0  61000.0             9.0\n",
      "5  36.0  68000.0             8.0\n",
      "6  32.5  72000.0             9.0\n"
     ]
    }
   ],
   "source": [
    "from sklearn.impute import KNNImputer\n",
    "\n",
    "# Using KNNImputer to replace missing values using the mean value from k-nearest neighbors\n",
    "knn_imputer = KNNImputer(n_neighbors=2)\n",
    "df_knn = pd.DataFrame(knn_imputer.fit_transform(df), columns=df.columns)\n",
    "\n",
    "print(df_knn)\n"
   ]
  },
  {
   "cell_type": "markdown",
   "metadata": {},
   "source": [
    "## fillna numpy"
   ]
  },
  {
   "cell_type": "code",
   "execution_count": null,
   "metadata": {},
   "outputs": [],
   "source": [
    "TBD"
   ]
  },
  {
   "cell_type": "markdown",
   "metadata": {},
   "source": [
    "Conversion of Categorical Data ????"
   ]
  }
 ],
 "metadata": {
  "kernelspec": {
   "display_name": "Python 3",
   "language": "python",
   "name": "python3"
  },
  "language_info": {
   "codemirror_mode": {
    "name": "ipython",
    "version": 3
   },
   "file_extension": ".py",
   "mimetype": "text/x-python",
   "name": "python",
   "nbconvert_exporter": "python",
   "pygments_lexer": "ipython3",
   "version": "3.11.5"
  }
 },
 "nbformat": 4,
 "nbformat_minor": 2
}
