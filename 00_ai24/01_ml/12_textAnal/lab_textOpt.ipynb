{
 "cells": [
  {
   "cell_type": "markdown",
   "metadata": {},
   "source": [
    "# text opts"
   ]
  },
  {
   "cell_type": "code",
   "execution_count": 1,
   "metadata": {},
   "outputs": [],
   "source": [
    "from sklearn.feature_extraction.text import CountVectorizer\n"
   ]
  },
  {
   "cell_type": "markdown",
   "metadata": {},
   "source": [
    "# text anal\n",
    "\n",
    "* https://www.nltk.org/\n",
    "\n",
    "## stop words\n",
    "* https://www.geeksforgeeks.org/removing-stop-words-nltk-python/\n",
    "\n",
    "## WordNetLemmatizer\n",
    "* https://wisdomml.in/stemming-and-lemmatiztion/\n",
    "* https://ayselaydin.medium.com/2-stemming-lemmatization-in-nlp-text-preprocessing-techniques-adfe4d84ceee"
   ]
  },
  {
   "cell_type": "markdown",
   "metadata": {},
   "source": [
    "## sklearn CountVectorizer\n",
    "\n",
    "* learns the corpus of words. \n",
    "\n",
    "https://scikit-learn.org/stable/modules/generated/sklearn.feature_extraction.text.CountVectorizer.html -  "
   ]
  },
  {
   "cell_type": "code",
   "execution_count": 11,
   "metadata": {},
   "outputs": [
    {
     "name": "stdout",
     "output_type": "stream",
     "text": [
      "strings len = 4\n",
      "Features = ['and' 'document' 'first' 'is' 'one' 'second' 'the' 'third' 'this']\n",
      "Features length = 9\n",
      "X array = \n",
      " [[0 1 1 1 0 0 1 0 1]\n",
      " [0 2 0 1 0 1 1 0 1]\n",
      " [1 0 0 1 1 0 1 1 1]\n",
      " [0 1 1 1 0 0 1 0 1]]\n",
      "X shape = (4, 9)\n"
     ]
    }
   ],
   "source": [
    "strings = [\n",
    "...     'This is the first document.',\n",
    "...     'This document is the second document.',\n",
    "...     'And this is the third one.',\n",
    "...     'Is this the first document?',\n",
    "... ]\n",
    "vectorizer = CountVectorizer()\n",
    "X = vectorizer.fit_transform(strings)\n",
    "features = vectorizer.get_feature_names_out()\n",
    "\n",
    "print(f\"strings len = {len(strings)}\")\n",
    "print(f\"Features = {features}\")\n",
    "print(f\"Features length = {len(features)}\")\n",
    "print(f\"X array = \\n {X.toarray()}\")\n",
    "print(f\"X shape = {X.shape}\")"
   ]
  },
  {
   "cell_type": "code",
   "execution_count": 12,
   "metadata": {},
   "outputs": [
    {
     "name": "stdout",
     "output_type": "stream",
     "text": [
      "strings len = 4\n",
      "Features = ['and this' 'document is' 'first document' 'is the' 'is this'\n",
      " 'second document' 'the first' 'the second' 'the third' 'third one'\n",
      " 'this document' 'this is' 'this the']\n",
      "Features length = 13\n",
      "X array = \n",
      " [[0 0 1 1 0 0 1 0 0 0 0 1 0]\n",
      " [0 1 0 1 0 1 0 1 0 0 1 0 0]\n",
      " [1 0 0 1 0 0 0 0 1 1 0 1 0]\n",
      " [0 0 1 0 1 0 1 0 0 0 0 0 1]]\n",
      "X shape = (4, 13)\n"
     ]
    }
   ],
   "source": [
    "strings = [\n",
    "...     'This is the first document.',\n",
    "...     'This document is the second document.',\n",
    "...     'And this is the third one.',\n",
    "...     'Is this the first document?',\n",
    "... ]\n",
    "vectorizer = CountVectorizer(analyzer='word', ngram_range=(2, 2))\n",
    "X = vectorizer.fit_transform(strings)\n",
    "features = vectorizer.get_feature_names_out()\n",
    "\n",
    "print(f\"strings len = {len(strings)}\")\n",
    "print(f\"Features = {features}\")\n",
    "print(f\"Features length = {len(features)}\")\n",
    "print(f\"X array = \\n {X.toarray()}\")\n",
    "print(f\"X shape = {X.shape}\")"
   ]
  },
  {
   "cell_type": "code",
   "execution_count": 21,
   "metadata": {},
   "outputs": [
    {
     "name": "stdout",
     "output_type": "stream",
     "text": [
      "strings len = 4\n",
      "Features = ['is' 'the' 'this']\n",
      "Features length = 3\n",
      "X array = \n",
      " [[1 1 1]\n",
      " [1 1 1]\n",
      " [1 1 1]\n",
      " [1 1 1]]\n",
      "X shape = (4, 3)\n"
     ]
    }
   ],
   "source": [
    "strings = [\n",
    "...     'This is the first document.',\n",
    "...     'This document is the second document.',\n",
    "...     'And this is the third one.',\n",
    "...     'Is this the first document?',\n",
    "... ]\n",
    "# Minimum Frequency of words\n",
    "minDf = 4\n",
    "vectorizer = CountVectorizer(strip_accents = 'ascii' ,  min_df = minDf)\n",
    "X = vectorizer.fit_transform(strings)\n",
    "features = vectorizer.get_feature_names_out()\n",
    "\n",
    "print(f\"strings len = {len(strings)}\")\n",
    "print(f\"Features = {features}\")\n",
    "print(f\"Features length = {len(features)}\")\n",
    "print(f\"X array = \\n {X.toarray()}\")\n",
    "print(f\"X shape = {X.shape}\")"
   ]
  },
  {
   "cell_type": "code",
   "execution_count": 22,
   "metadata": {},
   "outputs": [
    {
     "name": "stdout",
     "output_type": "stream",
     "text": [
      "strings len = 4\n",
      "Features = ['and' 'document' 'first' 'one' 'second' 'the' 'third' 'this']\n",
      "Features length = 8\n",
      "X array = \n",
      " [[0 1 1 0 0 1 0 1]\n",
      " [0 2 0 0 1 1 0 1]\n",
      " [1 0 0 1 0 1 1 1]\n",
      " [0 1 1 0 0 1 0 1]]\n",
      "X shape = (4, 8)\n"
     ]
    }
   ],
   "source": [
    "strings = [\n",
    "...     'This is the first document.',\n",
    "...     'This document is the second document.',\n",
    "...     'And this is the third one.',\n",
    "...     'Is this the first document?',\n",
    "... ]\n",
    "\n",
    "# List of words to avoid counting\n",
    "lIgnoreWords = ['is']\n",
    "\n",
    "vectorizer = CountVectorizer(strip_accents = 'ascii' , stop_words = lIgnoreWords)\n",
    "X = vectorizer.fit_transform(strings)\n",
    "features = vectorizer.get_feature_names_out()\n",
    "\n",
    "print(f\"strings len = {len(strings)}\")\n",
    "print(f\"Features = {features}\")\n",
    "print(f\"Features length = {len(features)}\")\n",
    "print(f\"X array = \\n {X.toarray()}\")\n",
    "print(f\"X shape = {X.shape}\")"
   ]
  },
  {
   "cell_type": "code",
   "execution_count": null,
   "metadata": {},
   "outputs": [],
   "source": []
  }
 ],
 "metadata": {
  "kernelspec": {
   "display_name": "Python 3",
   "language": "python",
   "name": "python3"
  },
  "language_info": {
   "codemirror_mode": {
    "name": "ipython",
    "version": 3
   },
   "file_extension": ".py",
   "mimetype": "text/x-python",
   "name": "python",
   "nbconvert_exporter": "python",
   "pygments_lexer": "ipython3",
   "version": "3.11.5"
  }
 },
 "nbformat": 4,
 "nbformat_minor": 2
}
