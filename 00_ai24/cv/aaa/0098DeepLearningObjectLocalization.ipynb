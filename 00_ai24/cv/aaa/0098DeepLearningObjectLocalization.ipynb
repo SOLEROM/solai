{
 "cells": [
  {
   "attachments": {},
   "cell_type": "markdown",
   "metadata": {},
   "source": [
    "[![Fixel Algorithms](https://i.imgur.com/AqKHVZ0.png)](https://fixelalgorithms.gitlab.io/)\n",
    "\n",
    "# Object Localization\n",
    "\n",
    "> Notebook by:\n",
    "> - Royi Avital RoyiAvital@fixelalgorithms.com\n",
    "\n",
    "## Revision History\n",
    "\n",
    "| Version | Date       | User        |Content / Changes                                                   |\n",
    "|---------|------------|-------------|--------------------------------------------------------------------|\n",
    "| 1.0.000 | 08/06/2024 | Royi Avital | First version                                                      |"
   ]
  },
  {
   "attachments": {},
   "cell_type": "markdown",
   "metadata": {},
   "source": [
    "[![Open In Colab](https://colab.research.google.com/assets/colab-badge.svg)](https://colab.research.google.com/github/FixelAlgorithmsTeam/FixelCourses/blob/master/AIProgram/2024_02/0098DeepLearningObjectLocalization.ipynb)"
   ]
  },
  {
   "cell_type": "code",
   "execution_count": 1,
   "metadata": {
    "ExecuteTime": {
     "end_time": "2022-02-02T09:30:06.492269Z",
     "start_time": "2022-02-02T09:30:06.220934Z"
    }
   },
   "outputs": [
    {
     "name": "stderr",
     "output_type": "stream",
     "text": [
      "2024-06-15 04:40:45.389639: I tensorflow/core/platform/cpu_feature_guard.cc:182] This TensorFlow binary is optimized to use available CPU instructions in performance-critical operations.\n",
      "To enable the following instructions: SSE4.1 SSE4.2 AVX AVX2 FMA, in other operations, rebuild TensorFlow with the appropriate compiler flags.\n"
     ]
    }
   ],
   "source": [
    "# Import Packages\n",
    "\n",
    "# General Tools\n",
    "import numpy as np\n",
    "import scipy as sp\n",
    "import pandas as pd\n",
    "\n",
    "# Machine Learning\n",
    "from sklearn.metrics import confusion_matrix, ConfusionMatrixDisplay\n",
    "from sklearn.model_selection import ParameterGrid\n",
    "\n",
    "# Deep Learning\n",
    "import torch\n",
    "import torch.nn            as nn\n",
    "import torch.nn.functional as F\n",
    "from torch.optim.optimizer import Optimizer\n",
    "from torch.optim.lr_scheduler import LRScheduler\n",
    "from torch.utils.data import DataLoader\n",
    "from torch.utils.tensorboard import SummaryWriter\n",
    "import torchinfo\n",
    "from torchmetrics.classification import MulticlassAccuracy\n",
    "from torchmetrics.detection.iou import IntersectionOverUnion\n",
    "\n",
    "import torchvision\n",
    "from torchvision.transforms import v2 as TorchVisionTrns\n",
    "\n",
    "# Miscellaneous\n",
    "import copy\n",
    "from enum import auto, Enum, unique\n",
    "import math\n",
    "import os\n",
    "from platform import python_version\n",
    "import random\n",
    "import shutil\n",
    "import time\n",
    "\n",
    "# Typing\n",
    "from typing import Callable, Dict, Generator, List, Optional, Self, Set, Tuple, Union\n",
    "\n",
    "# Visualization\n",
    "import matplotlib as mpl\n",
    "import matplotlib.pyplot as plt\n",
    "import seaborn as sns\n",
    "\n",
    "# Jupyter\n",
    "from IPython import get_ipython\n",
    "from IPython.display import HTML, Image\n",
    "from IPython.display import display\n",
    "from ipywidgets import Dropdown, FloatSlider, interact, IntSlider, Layout, SelectionSlider\n",
    "from ipywidgets import interact"
   ]
  },
  {
   "attachments": {},
   "cell_type": "markdown",
   "metadata": {},
   "source": [
    "## Notations\n",
    "\n",
    "* <font color='red'>(**?**)</font> Question to answer interactively.\n",
    "* <font color='blue'>(**!**)</font> Simple task to add code for the notebook.\n",
    "* <font color='green'>(**@**)</font> Optional / Extra self practice.\n",
    "* <font color='brown'>(**#**)</font> Note / Useful resource / Food for thought.\n",
    "\n",
    "Code Notations:\n",
    "\n",
    "```python\n",
    "someVar    = 2; #<! Notation for a variable\n",
    "vVector    = np.random.rand(4) #<! Notation for 1D array\n",
    "mMatrix    = np.random.rand(4, 3) #<! Notation for 2D array\n",
    "tTensor    = np.random.rand(4, 3, 2, 3) #<! Notation for nD array (Tensor)\n",
    "tuTuple    = (1, 2, 3) #<! Notation for a tuple\n",
    "lList      = [1, 2, 3] #<! Notation for a list\n",
    "dDict      = {1: 3, 2: 2, 3: 1} #<! Notation for a dictionary\n",
    "oObj       = MyClass() #<! Notation for an object\n",
    "dfData     = pd.DataFrame() #<! Notation for a data frame\n",
    "dsData     = pd.Series() #<! Notation for a series\n",
    "hObj       = plt.Axes() #<! Notation for an object / handler / function handler\n",
    "```\n",
    "\n",
    "### Code Exercise\n",
    "\n",
    " - Single line fill\n",
    "\n",
    " ```python\n",
    " vallToFill = ???\n",
    " ```\n",
    "\n",
    " - Multi Line to Fill (At least one)\n",
    "\n",
    " ```python\n",
    " # You need to start writing\n",
    " ????\n",
    " ```\n",
    "\n",
    " - Section to Fill\n",
    "\n",
    "```python\n",
    "#===========================Fill This===========================#\n",
    "# 1. Explanation about what to do.\n",
    "# !! Remarks to follow / take under consideration.\n",
    "mX = ???\n",
    "\n",
    "???\n",
    "#===============================================================#\n",
    "```"
   ]
  },
  {
   "cell_type": "code",
   "execution_count": 2,
   "metadata": {},
   "outputs": [],
   "source": [
    "# Configuration\n",
    "# %matplotlib inline\n",
    "\n",
    "seedNum = 512\n",
    "np.random.seed(seedNum)\n",
    "random.seed(seedNum)\n",
    "\n",
    "# Matplotlib default color palette\n",
    "lMatPltLibclr = ['#1f77b4', '#ff7f0e', '#2ca02c', '#d62728', '#9467bd', '#8c564b', '#e377c2', '#7f7f7f', '#bcbd22', '#17becf']\n",
    "# sns.set_theme() #>! Apply SeaBorn theme\n",
    "\n",
    "runInGoogleColab = 'google.colab' in str(get_ipython())\n",
    "\n",
    "# Improve performance by benchmarking\n",
    "torch.backends.cudnn.benchmark = True\n",
    "\n",
    "# Reproducibility (Per PyTorch Version on the same device)\n",
    "# torch.manual_seed(seedNum)\n",
    "# torch.backends.cudnn.deterministic = True\n",
    "# torch.backends.cudnn.benchmark     = False #<! Makes things slower\n"
   ]
  },
  {
   "cell_type": "code",
   "execution_count": 3,
   "metadata": {},
   "outputs": [],
   "source": [
    "# Constants\n",
    "\n",
    "FIG_SIZE_DEF    = (8, 8)\n",
    "ELM_SIZE_DEF    = 50\n",
    "CLASS_COLOR     = ('b', 'r')\n",
    "EDGE_COLOR      = 'k'\n",
    "MARKER_SIZE_DEF = 10\n",
    "LINE_WIDTH_DEF  = 2\n",
    "\n",
    "DATA_SET_FILE_NAME      = 'archive.zip'\n",
    "DATA_SET_FOLDER_NAME    = 'IntelImgCls'\n",
    "\n",
    "D_CLASSES  = {0: 'Red', 1: 'Green', 2: 'Blue'}\n",
    "L_CLASSES  = ['R', 'G', 'B']\n",
    "T_IMG_SIZE = (100, 100, 3)\n",
    "\n",
    "DATA_FOLDER_PATH    = 'Data'\n",
    "TENSOR_BOARD_BASE   = 'TB'\n"
   ]
  },
  {
   "cell_type": "code",
   "execution_count": 4,
   "metadata": {},
   "outputs": [],
   "source": [
    "# Download Auxiliary Modules for Google Colab\n",
    "if runInGoogleColab:\n",
    "    !wget https://raw.githubusercontent.com/FixelAlgorithmsTeam/FixelCourses/master/AIProgram/2024_02/DataManipulation.py\n",
    "    !wget https://raw.githubusercontent.com/FixelAlgorithmsTeam/FixelCourses/master/AIProgram/2024_02/DataVisualization.py\n",
    "    !wget https://raw.githubusercontent.com/FixelAlgorithmsTeam/FixelCourses/master/AIProgram/2024_02/DeepLearningPyTorch.py"
   ]
  },
  {
   "cell_type": "code",
   "execution_count": 5,
   "metadata": {},
   "outputs": [],
   "source": [
    "# Courses Packages\n",
    "import sys\n",
    "sys.path.append('../../utils')\n",
    "sys.path.append('/home/vlad/utils')\n",
    "from DataManipulation import BBoxFormat\n",
    "from DataManipulation import GenLabeldEllipseImg\n",
    "from DataVisualization import PlotBox, PlotBBox, PlotLabelsHistogram\n",
    "from DeepLearningPyTorch import ObjectLocalizationDataset\n",
    "from DeepLearningPyTorch import GenDataLoaders, InitWeightsKaiNorm, TrainModel, TrainModelSch\n"
   ]
  },
  {
   "cell_type": "markdown",
   "metadata": {},
   "source": [
    "* <font color='blue'>(**!**)</font> Go through `GenLabeldDataEllipse()`.\n",
    "* <font color='blue'>(**!**)</font> Go through `ObjectLocalizationDataset`."
   ]
  },
  {
   "cell_type": "code",
   "execution_count": 6,
   "metadata": {},
   "outputs": [],
   "source": [
    "# General Auxiliary Functions\n",
    "\n",
    "def GenResNetModel( trainedModel: bool, numCls: int, resNetDepth: int = 18 ) -> nn.Module:\n",
    "    # Read on the API change at: How to Train State of the Art Models Using TorchVision’s Latest Primitives\n",
    "    # https://pytorch.org/blog/how-to-train-state-of-the-art-models-using-torchvision-latest-primitives\n",
    "\n",
    "    if (resNetDepth == 18):\n",
    "        modelFun = torchvision.models.resnet18\n",
    "        modelWeights = torchvision.models.ResNet18_Weights.IMAGENET1K_V1\n",
    "    elif (resNetDepth == 34):\n",
    "        modelFun = torchvision.models.resnet34\n",
    "        modelWeights = torchvision.models.ResNet34_Weights.IMAGENET1K_V1\n",
    "    else:\n",
    "        raise ValueError(f'The `resNetDepth`: {resNetDepth} is invalid!')\n",
    "\n",
    "    if trainedModel:\n",
    "        oModel = modelFun(weights = modelWeights)\n",
    "        numFeaturesIn   = oModel.fc.in_features\n",
    "        # Assuming numCls << 100\n",
    "        oModel.fc       = nn.Sequential(\n",
    "            nn.Linear(numFeaturesIn, 128), nn.ReLU(),\n",
    "            nn.Linear(128, numCls),\n",
    "        )\n",
    "    else:\n",
    "        oModel = modelFun(weights = None, num_classes = numCls)\n",
    "\n",
    "    return oModel\n",
    "\n",
    "\n",
    "def GenData( numSamples: int, tuImgSize: Tuple[int, int, int], boxFormat: BBoxFormat = BBoxFormat.YOLO ) -> Tuple[np.ndarray, np.ndarray, np.ndarray]:\n",
    "\n",
    "    mX = np.empty(shape = (numSamples, *tuImgSize[::-1]))\n",
    "    vY = np.empty(shape = numSamples, dtype = np.int_)\n",
    "    mB = np.empty(shape = (numSamples, 4))\n",
    "\n",
    "    for ii in range(numSamples):\n",
    "        mI, vLbl, mBB = GenLabeldEllipseImg(tuImgSize[:2], 1, boxFormat = boxFormat)\n",
    "        mX[ii]  = np.transpose(mI, (2, 0, 1))\n",
    "        vY[ii]  = vLbl[0]\n",
    "        mB[ii]  = mBB[0]\n",
    "    \n",
    "    return mX, vY, mB\n",
    "        \n",
    "# Data Loader\n",
    "# Using a function to mitigate Multi Process issues:\n",
    "# https://pytorch.org/docs/stable/notes/windows.html#multiprocessing-error-without-if-clause-protection\n",
    "def DataLoaderBatch( dlData: DataLoader ) -> Tuple:\n",
    "    \n",
    "    return next(iter(dlData)) #<! PyTorch Tensors\n"
   ]
  },
  {
   "cell_type": "markdown",
   "metadata": {},
   "source": [
    "## Object Localization\n",
    "\n",
    "The composability of _Deep Learning_ loss allows combining 2 tasks into 1.  \n",
    "_Object Localization_ is a composition of 2 tasks:\n",
    "\n",
    " - Classification: Identify the object class.\n",
    " - Regression: Localize the object by a _Bounding Box_ (BB).\n",
    "\n",
    "This notebook demonstrates:\n",
    " - Generating a synthetic data set.\n",
    " - Building a model for _object localization_\n",
    " - Training a model with a composed objective.\n",
    "\n",
    "</br>\n",
    "\n",
    "* <font color='brown'>(**#**)</font> In the notebook context _Object Localization_ assumes the existence of an object in the image and only a single object.\n",
    "* <font color='brown'>(**#**)</font> In the notebook context _Object Detection_ generalizes the task to support the case of non existence or several objects.\n",
    "* <font color='brown'>(**#**)</font> The motivation for a synthetic dataset is being able to implement the whole training process (Existing datasets are huge).  \n",
    "  Yet the ability to create synthetic dataset is a useful skill.\n",
    "* <font color='brown'>(**#**)</font> There are known datasets for object detection: [COCO Dataset](https://cocodataset.org), [PASCAL VOC](http://host.robots.ox.ac.uk/pascal/VOC/).   \n",
    "  They also define standards for the labeling system.  \n",
    "  Training them is on the scale of days.\n",
    "* <font color='brown'>(**#**)</font> [Object Detection Annotation Formats](https://albumentations.ai/docs/getting_started/bounding_boxes_augmentation)."
   ]
  },
  {
   "cell_type": "code",
   "execution_count": 7,
   "metadata": {},
   "outputs": [],
   "source": [
    "# Parameters\n",
    "\n",
    "# Data\n",
    "numSamplesTrain = 30_000\n",
    "numSamplesVal   = 10_000\n",
    "boxFormat       = BBoxFormat.YOLO\n",
    "\n",
    "# Model\n",
    "dropP = 0.5 #<! Dropout Layer\n",
    "\n",
    "# Training\n",
    "batchSize   = 256\n",
    "numWorkers  = 2 #<! Number of workers\n",
    "numEpochs   = 35\n",
    "λ = 20.0 #<! Localization Loss\n",
    "ϵ = 0.1 #<! Label Smoothing\n",
    "\n",
    "# Visualization\n",
    "numImg = 3\n"
   ]
  },
  {
   "cell_type": "markdown",
   "metadata": {},
   "source": [
    "## Generate / Load Data\n",
    "\n",
    "The data is synthetic data.  \n",
    "Each image includes and Ellipse where its color is the class (`R`, `G`, `B`) and the bounding rectangle.\n",
    "\n",
    "* <font color='brown'>(**#**)</font> The label is a vector of `5`: `[Class, xCenter, yCenter, boxWidth, boxHeight]`.  \n",
    "* <font color='brown'>(**#**)</font> The label is in `YOLO` format, hence it is normalized to `[0, 1]`.\n"
   ]
  },
  {
   "cell_type": "code",
   "execution_count": 8,
   "metadata": {},
   "outputs": [
    {
     "data": {
      "image/png": "[encoded data removed]",
      "text/plain": [
       "<Figure size 300x300 with 1 Axes>"
      ]
     },
     "metadata": {},
     "output_type": "display_data"
    }
   ],
   "source": [
    "# Image Sample\n",
    "\n",
    "mI, vY, mBB = GenLabeldEllipseImg(T_IMG_SIZE[:2], 1, boxFormat = boxFormat)\n",
    "vBox = mBB[0] #<! Matrix to support multiple objects in a single image\n",
    "clsIdx = vY[0]\n",
    "hA = PlotBox(mI, L_CLASSES[clsIdx], vBox)"
   ]
  },
  {
   "cell_type": "markdown",
   "metadata": {},
   "source": [
    "* <font color='brown'>(**#**)</font> One could use negative values for the bounding box. The model will extrapolate the object dimensions."
   ]
  },
  {
   "cell_type": "code",
   "execution_count": 9,
   "metadata": {},
   "outputs": [],
   "source": [
    "## reduce to test\n",
    "numSamplesTrain = 3_000\n",
    "numSamplesVal   = 1_000"
   ]
  },
  {
   "cell_type": "code",
   "execution_count": 10,
   "metadata": {},
   "outputs": [
    {
     "name": "stdout",
     "output_type": "stream",
     "text": [
      "The training data set data shape: (3000, 3, 100, 100)\n",
      "The training data set labels shape: (3000,)\n",
      "The training data set box shape: (3000, 4)\n",
      "The validation data set data shape: (1000, 3, 100, 100)\n",
      "The validation data set labels shape: (3000,)\n",
      "The validation data set box shape: (1000, 4)\n"
     ]
    }
   ],
   "source": [
    "# Generate Data\n",
    "\n",
    "mXTrain, vYTrain, mBBTrain = GenData(numSamplesTrain, T_IMG_SIZE, boxFormat = boxFormat)\n",
    "mXVal,   vYVal,   mBBVal   = GenData(numSamplesVal, T_IMG_SIZE, boxFormat = boxFormat)\n",
    "\n",
    "print(f'The training data set data shape: {mXTrain.shape}')\n",
    "print(f'The training data set labels shape: {vYTrain.shape}')\n",
    "print(f'The training data set box shape: {mBBTrain.shape}')\n",
    "print(f'The validation data set data shape: {mXVal.shape}')\n",
    "print(f'The validation data set labels shape: {vYTrain.shape}')\n",
    "print(f'The validation data set box shape: {mBBVal.shape}')"
   ]
  },
  {
   "cell_type": "code",
   "execution_count": 11,
   "metadata": {},
   "outputs": [
    {
     "name": "stdout",
     "output_type": "stream",
     "text": [
      "The training data set data shape: (3000, 3, 100, 100)\n",
      "The test data set data shape: (1000, 3, 100, 100)\n",
      "The unique values of the labels: [0 1 2]\n"
     ]
    }
   ],
   "source": [
    "# Generate Data\n",
    "\n",
    "dsTrain = ObjectLocalizationDataset(mXTrain, vYTrain, mBBTrain)\n",
    "dsVal   = ObjectLocalizationDataset(mXVal, vYVal, mBBVal)\n",
    "lClass  = list(dsTrain.vY)\n",
    "\n",
    "print(f'The training data set data shape: {dsTrain.tX.shape}')\n",
    "print(f'The test data set data shape: {dsVal.tX.shape}')\n",
    "print(f'The unique values of the labels: {np.unique(lClass)}')"
   ]
  },
  {
   "cell_type": "markdown",
   "metadata": {},
   "source": [
    "* <font color='brown'>(**#**)</font> PyTorch with the `v2` transforms deals with bounding boxes using special type: `BoundingBoxes`.\n",
    "* <font color='brown'>(**#**)</font> For _data augmentation_ see:\n",
    "    - [Transforming and Augmenting Images](https://pytorch.org/vision/stable/transforms.html).\n",
    "    - [Getting Started with Transforms v2](https://pytorch.org/vision/stable/auto_examples/transforms/plot_transforms_getting_started.html).\n",
    "    - [Transforms v2: End to End Object Detection / Segmentation Example](https://pytorch.org/vision/stable/auto_examples/transforms/plot_transforms_e2e.html).\n",
    "    - [How to Write Your Own v2 Transforms](https://pytorch.org/vision/stable/auto_examples/transforms/plot_custom_transforms.html)."
   ]
  },
  {
   "cell_type": "code",
   "execution_count": 12,
   "metadata": {},
   "outputs": [
    {
     "name": "stdout",
     "output_type": "stream",
     "text": [
      "The features shape: (3, 100, 100)\n",
      "The label value: 0\n",
      "The bounding box value: [0.175 0.8   0.35  0.36 ]\n"
     ]
    }
   ],
   "source": [
    "# Element of the Data Set\n",
    "\n",
    "mX, vY = dsTrain[0]\n",
    "\n",
    "valY    = int(vY[0])\n",
    "vB      = vY[1:]\n",
    "\n",
    "print(f'The features shape: {mX.shape}')\n",
    "print(f'The label value: {valY}')\n",
    "print(f'The bounding box value: {vB}')"
   ]
  },
  {
   "cell_type": "markdown",
   "metadata": {},
   "source": [
    "* <font color='brown'>(**#**)</font> Since the labels are in the same contiguous container as the bounding box parameters, their type is `Float`.\n",
    "* <font color='brown'>(**#**)</font> The bounding box is using absolute values. In practice it is commonly normalized to the image dimensions."
   ]
  },
  {
   "cell_type": "markdown",
   "metadata": {},
   "source": [
    "### Plot the Data"
   ]
  },
  {
   "cell_type": "code",
   "execution_count": 33,
   "metadata": {},
   "outputs": [
    {
     "data": {
      "image/png": "[encoded data removed]",
      "text/plain": [
       "<Figure size 300x300 with 1 Axes>"
      ]
     },
     "metadata": {},
     "output_type": "display_data"
    }
   ],
   "source": [
    "# Plot the Data\n",
    "\n",
    "hA = PlotBox(np.transpose(mX, (1, 2, 0)), L_CLASSES[valY], vB)\n"
   ]
  },
  {
   "cell_type": "code",
   "execution_count": 14,
   "metadata": {},
   "outputs": [
    {
     "data": {
      "image/png": "[encoded data removed]",
      "text/plain": [
       "<Figure size 800x600 with 1 Axes>"
      ]
     },
     "metadata": {},
     "output_type": "display_data"
    }
   ],
   "source": [
    "# Histogram of Labels\n",
    "\n",
    "hA = PlotLabelsHistogram(dsTrain.vY, lClass = L_CLASSES)\n",
    "plt.show()"
   ]
  },
  {
   "cell_type": "markdown",
   "metadata": {},
   "source": [
    "### Data Loaders\n",
    "\n",
    "This section defines the data loaded.\n",
    "\n"
   ]
  },
  {
   "cell_type": "code",
   "execution_count": 15,
   "metadata": {},
   "outputs": [],
   "source": [
    "# Data Loader\n",
    "\n",
    "dlTrain = torch.utils.data.DataLoader(dsTrain, shuffle = True, batch_size = 1 * batchSize, num_workers = numWorkers, drop_last = True, persistent_workers = True)\n",
    "dlVal   = torch.utils.data.DataLoader(dsVal, shuffle = False, batch_size = 2 * batchSize, num_workers = numWorkers, persistent_workers = True)\n",
    "\n",
    "# dlTrain = torch.utils.data.DataLoader(dsTrain, shuffle = True, batch_size = 1 * batchSize, num_workers = 0, drop_last = True, persistent_workers = False)\n",
    "# dlVal   = torch.utils.data.DataLoader(dsVal, shuffle = False, batch_size = 2 * batchSize, num_workers = 0, persistent_workers = False)\n"
   ]
  },
  {
   "cell_type": "code",
   "execution_count": 16,
   "metadata": {},
   "outputs": [
    {
     "name": "stdout",
     "output_type": "stream",
     "text": [
      "The batch features dimensions: torch.Size([256, 3, 100, 100])\n",
      "The batch labels dimensions: torch.Size([256])\n",
      "The batch bounding box dimensions: torch.Size([256, 4])\n"
     ]
    }
   ],
   "source": [
    "# Iterate on the Loader\n",
    "# The first batch.\n",
    "\n",
    "tX, mY = DataLoaderBatch(dlTrain)\n",
    "\n",
    "print(f'The batch features dimensions: {tX.shape}')\n",
    "print(f'The batch labels dimensions: {mY[:, 0].shape}')\n",
    "print(f'The batch bounding box dimensions: {mY[:, 1:].shape}')"
   ]
  },
  {
   "cell_type": "markdown",
   "metadata": {},
   "source": [
    "## The Model\n",
    "\n",
    "This section defines the model.  \n",
    "\n",
    "* <font color='brown'>(**#**)</font> The following implementation has a model with a single output, both for the regression and the classification.\n",
    "* <font color='brown'>(**#**)</font> One could create 2 different outputs (_Heads_) for each task."
   ]
  },
  {
   "cell_type": "code",
   "execution_count": 17,
   "metadata": {},
   "outputs": [],
   "source": [
    "# Model\n",
    "# Model generating function.\n",
    "\n",
    "def BuildModel( numCls: int ) -> nn.Module:\n",
    "\n",
    "    oModel = nn.Sequential(\n",
    "        nn.Identity(),\n",
    "        nn.Conv2d(3,   32,  3, stride = 2, padding = 0, bias = False), nn.BatchNorm2d(32 ), nn.ReLU(),\n",
    "        nn.Conv2d(32,  32,  3, stride = 1, padding = 1, bias = False), nn.BatchNorm2d(32 ), nn.ReLU(),\n",
    "        nn.Conv2d(32,  32,  3, stride = 2, padding = 0, bias = False), nn.BatchNorm2d(32 ), nn.ReLU(),\n",
    "        nn.Conv2d(32,  32,  3, stride = 1, padding = 1, bias = False), nn.BatchNorm2d(32 ), nn.ReLU(),\n",
    "        nn.Conv2d(32,  32,  3, stride = 1, padding = 1, bias = False), nn.BatchNorm2d(32 ), nn.ReLU(),\n",
    "        nn.Conv2d(32,  64,  3, stride = 2, padding = 1, bias = False), nn.BatchNorm2d(64 ), nn.ReLU(),\n",
    "        nn.Conv2d(64,  64,  3, stride = 1, padding = 1, bias = False), nn.BatchNorm2d(64 ), nn.ReLU(),\n",
    "        nn.Conv2d(64,  64,  3, stride = 1, padding = 1, bias = False), nn.BatchNorm2d(64 ), nn.ReLU(),\n",
    "        nn.Conv2d(64,  64,  3, stride = 1, padding = 1, bias = False), nn.BatchNorm2d(64 ), nn.ReLU(),\n",
    "        nn.Conv2d(64,  64,  3, stride = 1, padding = 1, bias = False), nn.BatchNorm2d(64 ), nn.ReLU(),\n",
    "        nn.Conv2d(64,  64,  3, stride = 2, padding = 1, bias = False), nn.BatchNorm2d(64 ), nn.ReLU(),\n",
    "        nn.Conv2d(64,  128, 3, stride = 1, padding = 0, bias = False), nn.BatchNorm2d(128), nn.ReLU(),\n",
    "        nn.Conv2d(128, 256, 3, stride = 1, padding = 0, bias = False), nn.BatchNorm2d(256), nn.ReLU(),\n",
    "        nn.Conv2d(256, 512, 2, stride = 1, padding = 0, bias = False), nn.BatchNorm2d(512), nn.ReLU(),\n",
    "        nn.Conv2d(512, numCls + 4, 1, stride = 1, padding = 0, bias = True),\n",
    "        nn.Flatten()\n",
    "    )\n",
    "\n",
    "    return oModel "
   ]
  },
  {
   "cell_type": "markdown",
   "metadata": {},
   "source": [
    "## notes \n",
    "\n",
    "(1) instead of fully connected at the end - we have a single output - with 1x1 pixel;\n",
    "* end of 1x1 pixel is like seeing in receptive field all the input image;\n",
    "\n",
    "```\n",
    "\n",
    "nn.Conv2d(512, numCls + 4, 1, stride = 1, padding = 0, bias = True),\n",
    "nn.Flatten()\n",
    "\n",
    "├─Conv2d (43): 1-44                      [1, 1]                    [256, 7, 1, 1]            3,591\n",
    "\n",
    "    convulsion 1*1 - 7 times\n",
    "\n",
    "├─Flatten (44): 1-45                     --                        [256, 7]                  --\n",
    "\n",
    "****   it the same like linear FC =>  512 * 7 + 7  = 3591\n",
    "\n",
    "```\n",
    "(2) why so deep and so many layers?\n",
    "* for RF to include all the ellipse ; each pixel at the end must know if he inside the ellipse\n",
    "* calc RF ?\n",
    "\n",
    "\n",
    "(3) used input of 100x100 can do the same for other size input?\n",
    "* input of 20x20 cant - less then 100x100 cant go to 1x1...\n",
    "* 120x120 can work but wont finish with 1x1 - so need to resize and crop to 100x100"
   ]
  },
  {
   "cell_type": "code",
   "execution_count": 18,
   "metadata": {},
   "outputs": [],
   "source": [
    "# Build the Model\n",
    "\n",
    "oModel = BuildModel(len(L_CLASSES))"
   ]
  },
  {
   "cell_type": "code",
   "execution_count": 19,
   "metadata": {},
   "outputs": [
    {
     "data": {
      "text/plain": [
       "===================================================================================================================\n",
       "Layer (type (var_name):depth-idx)        Kernel Shape              Output Shape              Param #\n",
       "===================================================================================================================\n",
       "Sequential (Sequential)                  --                        [256, 7]                  --\n",
       "├─Identity (0): 1-1                      --                        [256, 3, 100, 100]        --\n",
       "├─Conv2d (1): 1-2                        [3, 3]                    [256, 32, 49, 49]         864\n",
       "├─BatchNorm2d (2): 1-3                   --                        [256, 32, 49, 49]         64\n",
       "├─ReLU (3): 1-4                          --                        [256, 32, 49, 49]         --\n",
       "├─Conv2d (4): 1-5                        [3, 3]                    [256, 32, 49, 49]         9,216\n",
       "├─BatchNorm2d (5): 1-6                   --                        [256, 32, 49, 49]         64\n",
       "├─ReLU (6): 1-7                          --                        [256, 32, 49, 49]         --\n",
       "├─Conv2d (7): 1-8                        [3, 3]                    [256, 32, 24, 24]         9,216\n",
       "├─BatchNorm2d (8): 1-9                   --                        [256, 32, 24, 24]         64\n",
       "├─ReLU (9): 1-10                         --                        [256, 32, 24, 24]         --\n",
       "├─Conv2d (10): 1-11                      [3, 3]                    [256, 32, 24, 24]         9,216\n",
       "├─BatchNorm2d (11): 1-12                 --                        [256, 32, 24, 24]         64\n",
       "├─ReLU (12): 1-13                        --                        [256, 32, 24, 24]         --\n",
       "├─Conv2d (13): 1-14                      [3, 3]                    [256, 32, 24, 24]         9,216\n",
       "├─BatchNorm2d (14): 1-15                 --                        [256, 32, 24, 24]         64\n",
       "├─ReLU (15): 1-16                        --                        [256, 32, 24, 24]         --\n",
       "├─Conv2d (16): 1-17                      [3, 3]                    [256, 64, 12, 12]         18,432\n",
       "├─BatchNorm2d (17): 1-18                 --                        [256, 64, 12, 12]         128\n",
       "├─ReLU (18): 1-19                        --                        [256, 64, 12, 12]         --\n",
       "├─Conv2d (19): 1-20                      [3, 3]                    [256, 64, 12, 12]         36,864\n",
       "├─BatchNorm2d (20): 1-21                 --                        [256, 64, 12, 12]         128\n",
       "├─ReLU (21): 1-22                        --                        [256, 64, 12, 12]         --\n",
       "├─Conv2d (22): 1-23                      [3, 3]                    [256, 64, 12, 12]         36,864\n",
       "├─BatchNorm2d (23): 1-24                 --                        [256, 64, 12, 12]         128\n",
       "├─ReLU (24): 1-25                        --                        [256, 64, 12, 12]         --\n",
       "├─Conv2d (25): 1-26                      [3, 3]                    [256, 64, 12, 12]         36,864\n",
       "├─BatchNorm2d (26): 1-27                 --                        [256, 64, 12, 12]         128\n",
       "├─ReLU (27): 1-28                        --                        [256, 64, 12, 12]         --\n",
       "├─Conv2d (28): 1-29                      [3, 3]                    [256, 64, 12, 12]         36,864\n",
       "├─BatchNorm2d (29): 1-30                 --                        [256, 64, 12, 12]         128\n",
       "├─ReLU (30): 1-31                        --                        [256, 64, 12, 12]         --\n",
       "├─Conv2d (31): 1-32                      [3, 3]                    [256, 64, 6, 6]           36,864\n",
       "├─BatchNorm2d (32): 1-33                 --                        [256, 64, 6, 6]           128\n",
       "├─ReLU (33): 1-34                        --                        [256, 64, 6, 6]           --\n",
       "├─Conv2d (34): 1-35                      [3, 3]                    [256, 128, 4, 4]          73,728\n",
       "├─BatchNorm2d (35): 1-36                 --                        [256, 128, 4, 4]          256\n",
       "├─ReLU (36): 1-37                        --                        [256, 128, 4, 4]          --\n",
       "├─Conv2d (37): 1-38                      [3, 3]                    [256, 256, 2, 2]          294,912\n",
       "├─BatchNorm2d (38): 1-39                 --                        [256, 256, 2, 2]          512\n",
       "├─ReLU (39): 1-40                        --                        [256, 256, 2, 2]          --\n",
       "├─Conv2d (40): 1-41                      [2, 2]                    [256, 512, 1, 1]          524,288\n",
       "├─BatchNorm2d (41): 1-42                 --                        [256, 512, 1, 1]          1,024\n",
       "├─ReLU (42): 1-43                        --                        [256, 512, 1, 1]          --\n",
       "├─Conv2d (43): 1-44                      [1, 1]                    [256, 7, 1, 1]            3,591\n",
       "├─Flatten (44): 1-45                     --                        [256, 7]                  --\n",
       "===================================================================================================================\n",
       "Total params: 1,139,879\n",
       "Trainable params: 1,139,879\n",
       "Non-trainable params: 0\n",
       "Total mult-adds (Units.GIGABYTES): 17.47\n",
       "===================================================================================================================\n",
       "Input size (MB): 30.72\n",
       "Forward/backward pass size (MB): 1068.78\n",
       "Params size (MB): 4.56\n",
       "Estimated Total Size (MB): 1104.06\n",
       "==================================================================================================================="
      ]
     },
     "execution_count": 19,
     "metadata": {},
     "output_type": "execute_result"
    }
   ],
   "source": [
    "# Model Information - Pre Defined\n",
    "# Pay attention to the layers name.\n",
    "torchinfo.summary(oModel, (batchSize, *(T_IMG_SIZE[::-1])), col_names = ['kernel_size', 'output_size', 'num_params'], device = 'cpu', row_settings = ['depth', 'var_names'])"
   ]
  },
  {
   "cell_type": "markdown",
   "metadata": {},
   "source": [
    "* <font color='red'>(**?**)</font> Explain the dimensions of the last layer.\n",
    "* <font color='red'>(**?**)</font> Will the model work with smaller images?"
   ]
  },
  {
   "cell_type": "markdown",
   "metadata": {},
   "source": [
    "## Train the Model\n",
    "\n",
    "This section trains the model.  \n",
    "\n",
    "* <font color='brown'>(**#**)</font> The training loop must be adapted to the new loss function."
   ]
  },
  {
   "cell_type": "markdown",
   "metadata": {},
   "source": [
    "### Image Localization Loss\n",
    "\n",
    "The loss is a composite of 2 loss functions:\n",
    "\n",
    "$$\\ell\\left(\\hat{\\boldsymbol{y}},\\boldsymbol{y}\\right)=\\lambda_{\\text{MSE}}\\cdot\\ell_{\\text{MSE}}\\left(\\hat{\\boldsymbol{y}}_{\\text{bbox}},\\boldsymbol{y}_{\\text{bbox}}\\right)+\\lambda_{\\text{CE}}\\cdot\\ell_{\\text{CE}}\\left(\\hat{\\boldsymbol{y}}_{\\text{label}},\\boldsymbol{y}_{\\text{label}}\\right)$$\n",
    "\n",
    "Where $\\lambda_{\\text{MSE}}$ and $\\lambda_{\\text{CE}}$ are the weights of each loss.\n",
    "\n",
    "* <font color='brown'>(**#**)</font> In practice a single $\\lambda$ is required.\n",
    "* <font color='brown'>(**#**)</font> The MSE is not optimal loss function. It will be replaced by the _Log Euclidean_ loss."
   ]
  },
  {
   "cell_type": "code",
   "execution_count": 20,
   "metadata": {},
   "outputs": [],
   "source": [
    "# Object Localization Loss\n",
    "class ObjLocLoss( nn.Module ):\n",
    "    def __init__( self, numCls: int, λ: float, ϵ: float = 0.0 ) -> None:\n",
    "        super(ObjLocLoss, self).__init__()\n",
    "\n",
    "        self.numCls     = numCls\n",
    "        self.λ          = λ\n",
    "        self.ϵ          = ϵ\n",
    "        self.oMseLoss   = nn.MSELoss()\n",
    "        self.oCeLoss    = nn.CrossEntropyLoss(label_smoothing = ϵ)\n",
    "    \n",
    "    def forward( self: Self, mYHat: torch.Tensor, mY: torch.Tensor ) -> torch.Tensor:\n",
    "\n",
    "        mseLoss = self.oMseLoss(mYHat[:, self.numCls:], mY[:, 1:])\n",
    "        ceLoss  = self.oCeLoss(mYHat[:, :self.numCls], mY[:, 0].to(torch.long))\n",
    "\n",
    "        lossVal = (self.λ * mseLoss) + ceLoss\n",
    "\t\t\n",
    "        return lossVal"
   ]
  },
  {
   "cell_type": "markdown",
   "metadata": {},
   "source": [
    "### Image Localization Score\n",
    "\n",
    "The score is defined by the _IoU_ of a valid classification:\n",
    "\n",
    "$$\\text{Metric}=\\frac{1}{N}\\sum_{i=1}^{N}\\mathbb{I}\\left\\{ \\hat{y}_{i}=y_{i}\\right\\} \\cdot\\text{IoU}\\left(\\hat{B}_{i},B_{i}\\right)$$\n",
    "\n",
    "Where:\n",
    "- $\\hat{y}_{i}$ is the predicted label\n",
    "- $y_{i}$ is the correct label\n",
    "- $\\hat{B}_{i}$ is the predicted bounding box\n",
    "- $B_{i}$ is the correct bounding box\n",
    "In other words, the average IoU, considering only correct (label) prediction."
   ]
  },
  {
   "cell_type": "code",
   "execution_count": 21,
   "metadata": {},
   "outputs": [],
   "source": [
    "# Object Localization Score\n",
    "class ObjLocScore( nn.Module ):\n",
    "    def __init__( self, numCls: int ) -> None:\n",
    "        super(ObjLocScore, self).__init__()\n",
    "\n",
    "        self.numCls = numCls\n",
    "    \n",
    "    def forward( self: Self, mYHat: torch.Tensor, mY: torch.Tensor ) -> Tuple[float, float, float]:\n",
    "\n",
    "        batchSize = mYHat.shape[0]\n",
    "        \n",
    "        vY, mBox = mY[:, 0].to(torch.long), mY[:, 1:]\n",
    "\n",
    "        vIoU = torch.diag(torchvision.ops.box_iou(torchvision.ops.box_convert(mYHat[:, self.numCls:], 'cxcywh', 'xyxy'), torchvision.ops.box_convert(mBox, 'cxcywh', 'xyxy')))\n",
    "        vCor = (vY == torch.argmax(mYHat[:, :self.numCls], dim = 1)).to(torch.float32) #<! Correct labels\n",
    "\n",
    "        # valIoU      = torch.mean(vIoU).item()\n",
    "        # valAcc      = torch.mean(vCor).item()\n",
    "        valScore    = torch.inner(vIoU, vCor) / batchSize\n",
    "\t\t\n",
    "        return valScore"
   ]
  },
  {
   "cell_type": "code",
   "execution_count": 22,
   "metadata": {},
   "outputs": [],
   "source": [
    "# Run Device\n",
    "\n",
    "runDevice = torch.device('cuda:0' if torch.cuda.is_available() else 'cpu') #<! The 1st CUDA device\n"
   ]
  },
  {
   "cell_type": "code",
   "execution_count": 23,
   "metadata": {},
   "outputs": [],
   "source": [
    "# Loss and Score Function\n",
    "\n",
    "hL = ObjLocLoss(numCls = len(L_CLASSES), λ = λ, ϵ = ϵ)\n",
    "hS = ObjLocScore(numCls = len(L_CLASSES))\n",
    "\n",
    "hL = hL.to(runDevice)\n",
    "hS = hS.to(runDevice)\n"
   ]
  },
  {
   "cell_type": "code",
   "execution_count": 24,
   "metadata": {},
   "outputs": [
    {
     "name": "stdout",
     "output_type": "stream",
     "text": [
      "Epoch    1 / 35 | Train Loss:  8.204 | Val Loss:  5.342 | Train Score:  0.000 | Val Score:  0.000 | Epoch Time: 14.86 | <-- Checkpoint! |\n",
      "Epoch    2 / 35 | Train Loss:  6.180 | Val Loss:  4.699 | Train Score:  0.001 | Val Score:  0.000 | Epoch Time:  1.26 |\n",
      "Epoch    3 / 35 | Train Loss:  3.907 | Val Loss:  2.758 | Train Score:  0.005 | Val Score:  0.002 | Epoch Time:  1.23 | <-- Checkpoint! |\n",
      "Epoch    4 / 35 | Train Loss:  1.965 | Val Loss:  2.085 | Train Score:  0.070 | Val Score:  0.029 | Epoch Time:  1.23 | <-- Checkpoint! |\n",
      "Epoch    5 / 35 | Train Loss:  1.393 | Val Loss:  1.573 | Train Score:  0.193 | Val Score:  0.122 | Epoch Time:  1.23 | <-- Checkpoint! |\n",
      "Epoch    6 / 35 | Train Loss:  1.136 | Val Loss:  1.609 | Train Score:  0.234 | Val Score:  0.181 | Epoch Time:  1.24 | <-- Checkpoint! |\n",
      "Epoch    7 / 35 | Train Loss:  0.865 | Val Loss:  0.976 | Train Score:  0.305 | Val Score:  0.265 | Epoch Time:  1.23 | <-- Checkpoint! |\n",
      "Epoch    8 / 35 | Train Loss:  0.702 | Val Loss:  0.856 | Train Score:  0.358 | Val Score:  0.291 | Epoch Time:  1.23 | <-- Checkpoint! |\n",
      "Epoch    9 / 35 | Train Loss:  0.568 | Val Loss:  0.706 | Train Score:  0.406 | Val Score:  0.305 | Epoch Time:  1.23 | <-- Checkpoint! |\n",
      "Epoch   10 / 35 | Train Loss:  0.471 | Val Loss:  0.558 | Train Score:  0.470 | Val Score:  0.384 | Epoch Time:  1.24 | <-- Checkpoint! |\n",
      "Epoch   11 / 35 | Train Loss:  0.422 | Val Loss:  0.508 | Train Score:  0.513 | Val Score:  0.423 | Epoch Time:  1.23 | <-- Checkpoint! |\n",
      "Epoch   12 / 35 | Train Loss:  0.410 | Val Loss:  0.493 | Train Score:  0.527 | Val Score:  0.430 | Epoch Time:  1.24 | <-- Checkpoint! |\n",
      "Epoch   13 / 35 | Train Loss:  0.386 | Val Loss:  0.472 | Train Score:  0.568 | Val Score:  0.449 | Epoch Time:  1.23 | <-- Checkpoint! |\n",
      "Epoch   14 / 35 | Train Loss:  0.375 | Val Loss:  0.463 | Train Score:  0.560 | Val Score:  0.474 | Epoch Time:  1.24 | <-- Checkpoint! |\n",
      "Epoch   15 / 35 | Train Loss:  0.373 | Val Loss:  0.460 | Train Score:  0.579 | Val Score:  0.474 | Epoch Time:  1.23 | <-- Checkpoint! |\n",
      "Epoch   16 / 35 | Train Loss:  0.367 | Val Loss:  0.434 | Train Score:  0.580 | Val Score:  0.483 | Epoch Time:  1.23 | <-- Checkpoint! |\n",
      "Epoch   17 / 35 | Train Loss:  0.349 | Val Loss:  0.433 | Train Score:  0.614 | Val Score:  0.508 | Epoch Time:  1.24 | <-- Checkpoint! |\n",
      "Epoch   18 / 35 | Train Loss:  0.346 | Val Loss:  0.414 | Train Score:  0.622 | Val Score:  0.517 | Epoch Time:  1.23 | <-- Checkpoint! |\n",
      "Epoch   19 / 35 | Train Loss:  0.338 | Val Loss:  0.412 | Train Score:  0.655 | Val Score:  0.524 | Epoch Time:  1.23 | <-- Checkpoint! |\n",
      "Epoch   20 / 35 | Train Loss:  0.340 | Val Loss:  0.412 | Train Score:  0.643 | Val Score:  0.525 | Epoch Time:  1.23 | <-- Checkpoint! |\n",
      "Epoch   21 / 35 | Train Loss:  0.335 | Val Loss:  0.419 | Train Score:  0.659 | Val Score:  0.521 | Epoch Time:  1.23 |\n",
      "Epoch   22 / 35 | Train Loss:  0.329 | Val Loss:  0.402 | Train Score:  0.672 | Val Score:  0.542 | Epoch Time:  1.23 | <-- Checkpoint! |\n",
      "Epoch   23 / 35 | Train Loss:  0.324 | Val Loss:  0.401 | Train Score:  0.697 | Val Score:  0.539 | Epoch Time:  1.24 |\n",
      "Epoch   24 / 35 | Train Loss:  0.323 | Val Loss:  0.397 | Train Score:  0.686 | Val Score:  0.552 | Epoch Time:  1.23 | <-- Checkpoint! |\n",
      "Epoch   25 / 35 | Train Loss:  0.322 | Val Loss:  0.395 | Train Score:  0.691 | Val Score:  0.547 | Epoch Time:  1.24 |\n",
      "Epoch   26 / 35 | Train Loss:  0.317 | Val Loss:  0.394 | Train Score:  0.726 | Val Score:  0.553 | Epoch Time:  1.23 | <-- Checkpoint! |\n",
      "Epoch   27 / 35 | Train Loss:  0.320 | Val Loss:  0.393 | Train Score:  0.704 | Val Score:  0.554 | Epoch Time:  1.23 | <-- Checkpoint! |\n",
      "Epoch   28 / 35 | Train Loss:  0.314 | Val Loss:  0.390 | Train Score:  0.734 | Val Score:  0.560 | Epoch Time:  1.24 | <-- Checkpoint! |\n",
      "Epoch   29 / 35 | Train Loss:  0.312 | Val Loss:  0.389 | Train Score:  0.750 | Val Score:  0.563 | Epoch Time:  1.23 | <-- Checkpoint! |\n",
      "Epoch   30 / 35 | Train Loss:  0.312 | Val Loss:  0.388 | Train Score:  0.748 | Val Score:  0.567 | Epoch Time:  1.23 | <-- Checkpoint! |\n",
      "Epoch   31 / 35 | Train Loss:  0.311 | Val Loss:  0.388 | Train Score:  0.749 | Val Score:  0.564 | Epoch Time:  1.24 |\n",
      "Epoch   32 / 35 | Train Loss:  0.311 | Val Loss:  0.387 | Train Score:  0.749 | Val Score:  0.564 | Epoch Time:  1.27 |\n",
      "Epoch   33 / 35 | Train Loss:  0.310 | Val Loss:  0.387 | Train Score:  0.763 | Val Score:  0.567 | Epoch Time:  1.28 | <-- Checkpoint! |\n",
      "Epoch   34 / 35 | Train Loss:  0.312 | Val Loss:  0.387 | Train Score:  0.746 | Val Score:  0.567 | Epoch Time:  1.25 |\n",
      "Epoch   35 / 35 | Train Loss:  0.310 | Val Loss:  0.387 | Train Score:  0.766 | Val Score:  0.567 | Epoch Time:  1.26 | <-- Checkpoint! |\n"
     ]
    }
   ],
   "source": [
    "# Training Loop\n",
    "\n",
    "oModel = oModel.to(runDevice)\n",
    "oOpt = torch.optim.AdamW(oModel.parameters(), lr = 1e-5, betas = (0.9, 0.99), weight_decay = 1e-5) #<! Define optimizer\n",
    "oSch = torch.optim.lr_scheduler.OneCycleLR(oOpt, max_lr = 5e-4, total_steps = numEpochs)\n",
    "_, lTrainLoss, lTrainScore, lValLoss, lValScore, lLearnRate = TrainModel(oModel, dlTrain, dlVal, oOpt, numEpochs, hL, hS, oSch = oSch)"
   ]
  },
  {
   "cell_type": "code",
   "execution_count": 25,
   "metadata": {},
   "outputs": [
    {
     "data": {
      "text/plain": [
       "Text(0, 0.5, 'Learn Rate')"
      ]
     },
     "execution_count": 25,
     "metadata": {},
     "output_type": "execute_result"
    },
    {
     "data": {
      "image/png": "[encoded data removed]",
      "text/plain": [
       "<Figure size 1200x500 with 3 Axes>"
      ]
     },
     "metadata": {},
     "output_type": "display_data"
    }
   ],
   "source": [
    "# Plot Training Phase\n",
    "\n",
    "hF, vHa = plt.subplots(nrows = 1, ncols = 3, figsize = (12, 5))\n",
    "vHa = np.ravel(vHa)\n",
    "\n",
    "hA = vHa[0]\n",
    "hA.plot(lTrainLoss, lw = 2, label = 'Train')\n",
    "hA.plot(lValLoss, lw = 2, label = 'Validation')\n",
    "hA.set_title(f'Object Localization Loss (λ = {λ:0.1f})')\n",
    "hA.set_xlabel('Epoch')\n",
    "hA.set_ylabel('Loss')\n",
    "hA.legend()\n",
    "\n",
    "hA = vHa[1]\n",
    "hA.plot(lTrainScore, lw = 2, label = 'Train')\n",
    "hA.plot(lValScore, lw = 2, label = 'Validation')\n",
    "hA.set_title('Object Localization Score')\n",
    "hA.set_xlabel('Epoch')\n",
    "hA.set_ylabel('Score')\n",
    "hA.legend()\n",
    "\n",
    "hA = vHa[2]\n",
    "hA.plot(lLearnRate, lw = 2)\n",
    "hA.set_title('Learn Rate Scheduler')\n",
    "hA.set_xlabel('Epoch')\n",
    "hA.set_ylabel('Learn Rate')"
   ]
  },
  {
   "cell_type": "code",
   "execution_count": 26,
   "metadata": {},
   "outputs": [
    {
     "data": {
      "image/png": "[encoded data removed]",
      "text/plain": [
       "<Figure size 300x300 with 1 Axes>"
      ]
     },
     "metadata": {},
     "output_type": "display_data"
    }
   ],
   "source": [
    "# Plot Prediction\n",
    "\n",
    "rndIdx = np.random.randint(numSamplesVal)\n",
    "\n",
    "mX, vY = dsVal[rndIdx]\n",
    "valY    = int(vY[0])\n",
    "vB      = vY[1:]\n",
    "with torch.no_grad():\n",
    "    tX = torch.tensor(mX)\n",
    "    tX = torch.unsqueeze(tX, 0)\n",
    "    tX = tX.to(runDevice)\n",
    "    mYHat = oModel(tX).detach().cpu().numpy()\n",
    "\n",
    "vYHat       = mYHat[0]\n",
    "valYHat     = int(vYHat[0])\n",
    "vBHat       = vY[1:]\n",
    "\n",
    "hA = PlotBox(np.transpose(mX, (1, 2, 0)), L_CLASSES[valY], vB)\n",
    "hA = PlotBBox(hA, L_CLASSES[valYHat], vBHat)"
   ]
  },
  {
   "cell_type": "markdown",
   "metadata": {},
   "source": [
    "* <font color='green'>(**@**)</font> Display the _accuracy_ and _IoU_ scores and _MSE_ and _CE_ loss over the epochs.   \n",
    "  It will require updating the Loss, Score classes and the training function."
   ]
  }
 ],
 "metadata": {
  "kernelspec": {
   "display_name": "Python 3 (ipykernel)",
   "language": "python",
   "name": "python3"
  },
  "language_info": {
   "codemirror_mode": {
    "name": "ipython",
    "version": 3
   },
   "file_extension": ".py",
   "mimetype": "text/x-python",
   "name": "python",
   "nbconvert_exporter": "python",
   "pygments_lexer": "ipython3",
   "version": "3.11.8"
  },
  "toc": {
   "base_numbering": 1,
   "nav_menu": {},
   "number_sections": false,
   "sideBar": true,
   "skip_h1_title": false,
   "title_cell": "Table of Contents",
   "title_sidebar": "Contents",
   "toc_cell": false,
   "toc_position": {},
   "toc_section_display": true,
   "toc_window_display": true
  },
  "varInspector": {
   "cols": {
    "lenName": 16,
    "lenType": 16,
    "lenVar": 40
   },
   "kernels_config": {
    "python": {
     "delete_cmd_postfix": "",
     "delete_cmd_prefix": "del ",
     "library": "var_list.py",
     "varRefreshCmd": "print(var_dic_list())"
    },
    "r": {
     "delete_cmd_postfix": ") ",
     "delete_cmd_prefix": "rm(",
     "library": "var_list.r",
     "varRefreshCmd": "cat(var_dic_list()) "
    }
   },
   "types_to_exclude": [
    "module",
    "function",
    "builtin_function_or_method",
    "instance",
    "_Feature"
   ],
   "window_display": false
  },
  "vscode": {
   "interpreter": {
    "hash": "39577bab1f263e62e0b74f5b8086bd735049bf4751f6562b2d4b2969dc308293"
   }
  }
 },
 "nbformat": 4,
 "nbformat_minor": 4
}
