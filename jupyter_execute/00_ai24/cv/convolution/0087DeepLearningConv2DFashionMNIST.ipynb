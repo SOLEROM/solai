{
 "cells": [
  {
   "attachments": {},
   "cell_type": "markdown",
   "metadata": {},
   "source": [
    "[![Fixel Algorithms](https://i.imgur.com/AqKHVZ0.png)](https://fixelalgorithms.gitlab.io/)\n",
    "\n",
    "# Image Classification Fashion MNIST\n",
    "\n",
    "> Notebook by:\n",
    "> - Royi Avital RoyiAvital@fixelalgorithms.com\n",
    "\n",
    "## Revision History\n",
    "\n",
    "| Version | Date       | User        |Content / Changes                                                   |\n",
    "|---------|------------|-------------|--------------------------------------------------------------------|\n",
    "| 1.0.000 | 27/04/2024 | Royi Avital | First version                                                      |"
   ]
  },
  {
   "attachments": {},
   "cell_type": "markdown",
   "metadata": {},
   "source": [
    "[![Open In Colab](https://colab.research.google.com/assets/colab-badge.svg)](https://colab.research.google.com/github/FixelAlgorithmsTeam/FixelCourses/blob/master/AIProgram/2024_02/0087DeepLearningConv2DFashionMNIST.ipynb)"
   ]
  },
  {
   "cell_type": "code",
   "execution_count": 1,
   "metadata": {
    "ExecuteTime": {
     "end_time": "2022-02-02T09:30:06.492269Z",
     "start_time": "2022-02-02T09:30:06.220934Z"
    }
   },
   "outputs": [
    {
     "name": "stderr",
     "output_type": "stream",
     "text": [
      "2024-06-05 01:57:06.954775: I tensorflow/core/platform/cpu_feature_guard.cc:182] This TensorFlow binary is optimized to use available CPU instructions in performance-critical operations.\n",
      "To enable the following instructions: SSE4.1 SSE4.2 AVX AVX2 FMA, in other operations, rebuild TensorFlow with the appropriate compiler flags.\n"
     ]
    }
   ],
   "source": [
    "# Import Packages\n",
    "\n",
    "# General Tools\n",
    "import numpy as np\n",
    "import scipy as sp\n",
    "import pandas as pd\n",
    "\n",
    "# Machine Learning\n",
    "from sklearn.datasets import fetch_openml\n",
    "from sklearn.model_selection import train_test_split\n",
    "\n",
    "# Deep Learning\n",
    "import torch\n",
    "import torch.nn as nn\n",
    "from torch.utils.tensorboard import SummaryWriter\n",
    "import torchinfo\n",
    "from torchmetrics.classification import MulticlassAccuracy\n",
    "import torchvision\n",
    "\n",
    "# Miscellaneous\n",
    "import math\n",
    "import os\n",
    "from platform import python_version\n",
    "import random\n",
    "import time\n",
    "\n",
    "# Typing\n",
    "from typing import Callable, Dict, Generator, List, Optional, Self, Set, Tuple, Union\n",
    "\n",
    "# Visualization\n",
    "import matplotlib as mpl\n",
    "import matplotlib.pyplot as plt\n",
    "import seaborn as sns\n",
    "\n",
    "# Jupyter\n",
    "from IPython import get_ipython\n",
    "from IPython.display import HTML, Image\n",
    "from IPython.display import display\n",
    "from ipywidgets import Dropdown, FloatSlider, interact, IntSlider, Layout, SelectionSlider\n",
    "from ipywidgets import interact"
   ]
  },
  {
   "attachments": {},
   "cell_type": "markdown",
   "metadata": {},
   "source": [
    "## Notations\n",
    "\n",
    "* <font color='red'>(**?**)</font> Question to answer interactively.\n",
    "* <font color='blue'>(**!**)</font> Simple task to add code for the notebook.\n",
    "* <font color='green'>(**@**)</font> Optional / Extra self practice.\n",
    "* <font color='brown'>(**#**)</font> Note / Useful resource / Food for thought.\n",
    "\n",
    "Code Notations:\n",
    "\n",
    "```python\n",
    "someVar    = 2; #<! Notation for a variable\n",
    "vVector    = np.random.rand(4) #<! Notation for 1D array\n",
    "mMatrix    = np.random.rand(4, 3) #<! Notation for 2D array\n",
    "tTensor    = np.random.rand(4, 3, 2, 3) #<! Notation for nD array (Tensor)\n",
    "tuTuple    = (1, 2, 3) #<! Notation for a tuple\n",
    "lList      = [1, 2, 3] #<! Notation for a list\n",
    "dDict      = {1: 3, 2: 2, 3: 1} #<! Notation for a dictionary\n",
    "oObj       = MyClass() #<! Notation for an object\n",
    "dfData     = pd.DataFrame() #<! Notation for a data frame\n",
    "dsData     = pd.Series() #<! Notation for a series\n",
    "hObj       = plt.Axes() #<! Notation for an object / handler / function handler\n",
    "```\n",
    "\n",
    "### Code Exercise\n",
    "\n",
    " - Single line fill\n",
    "\n",
    " ```python\n",
    " vallToFill = ???\n",
    " ```\n",
    "\n",
    " - Multi Line to Fill (At least one)\n",
    "\n",
    " ```python\n",
    " # You need to start writing\n",
    " ????\n",
    " ```\n",
    "\n",
    " - Section to Fill\n",
    "\n",
    "```python\n",
    "#===========================Fill This===========================#\n",
    "# 1. Explanation about what to do.\n",
    "# !! Remarks to follow / take under consideration.\n",
    "mX = ???\n",
    "\n",
    "???\n",
    "#===============================================================#\n",
    "```"
   ]
  },
  {
   "cell_type": "code",
   "execution_count": 2,
   "metadata": {},
   "outputs": [],
   "source": [
    "# Configuration\n",
    "# %matplotlib inline\n",
    "\n",
    "seedNum = 512\n",
    "np.random.seed(seedNum)\n",
    "random.seed(seedNum)\n",
    "\n",
    "# Matplotlib default color palette\n",
    "lMatPltLibclr = ['#1f77b4', '#ff7f0e', '#2ca02c', '#d62728', '#9467bd', '#8c564b', '#e377c2', '#7f7f7f', '#bcbd22', '#17becf']\n",
    "# sns.set_theme() #>! Apply SeaBorn theme\n",
    "\n",
    "runInGoogleColab = 'google.colab' in str(get_ipython())\n",
    "\n",
    "# Improve performance by benchmarking\n",
    "torch.backends.cudnn.benchmark = True\n",
    "\n",
    "# Reproducibility\n",
    "# torch.manual_seed(seedNum)\n",
    "# torch.backends.cudnn.deterministic = True\n",
    "# torch.backends.cudnn.benchmark     = False\n"
   ]
  },
  {
   "cell_type": "code",
   "execution_count": 3,
   "metadata": {},
   "outputs": [],
   "source": [
    "# Constants\n",
    "\n",
    "FIG_SIZE_DEF    = (8, 8)\n",
    "ELM_SIZE_DEF    = 50\n",
    "CLASS_COLOR     = ('b', 'r')\n",
    "EDGE_COLOR      = 'k'\n",
    "MARKER_SIZE_DEF = 10\n",
    "LINE_WIDTH_DEF  = 2\n",
    "\n",
    "D_CLASSES_FASHION_MNIST = {0: 'T-Shirt', 1: 'Trouser', 2: 'Pullover', 3: 'Dress', 4: 'Coat', 5: 'Sandal', 6: 'Shirt', 7: 'Sneaker', 8: 'Bag', 9: 'Boots'}\n",
    "L_CLASSES_FASHION_MNIST = ['T-Shirt', 'Trouser', 'Pullover', 'Dress', 'Coat', 'Sandal', 'Shirt', 'Sneaker', 'Bag', 'Boots']\n",
    "\n",
    "T_IMG_SIZE_MNIST = (28, 28)\n",
    "\n",
    "DATA_FOLDER_PATH    = 'Data'\n",
    "TENSOR_BOARD_BASE   = 'TB'\n"
   ]
  },
  {
   "cell_type": "code",
   "execution_count": 4,
   "metadata": {},
   "outputs": [],
   "source": [
    "# Download Auxiliary Modules for Google Colab\n",
    "if runInGoogleColab:\n",
    "    !wget https://raw.githubusercontent.com/FixelAlgorithmsTeam/FixelCourses/master/AIProgram/2024_02/DataManipulation.py\n",
    "    !wget https://raw.githubusercontent.com/FixelAlgorithmsTeam/FixelCourses/master/AIProgram/2024_02/DataVisualization.py\n",
    "    !wget https://raw.githubusercontent.com/FixelAlgorithmsTeam/FixelCourses/master/AIProgram/2024_02/DeepLearningPyTorch.py"
   ]
  },
  {
   "cell_type": "code",
   "execution_count": 5,
   "metadata": {},
   "outputs": [],
   "source": [
    "# Courses Packages\n",
    "import sys\n",
    "sys.path.append('/home/vlad/utils')\n",
    "from DataVisualization import PlotLabelsHistogram, PlotMnistImages\n",
    "from DeepLearningPyTorch import TrainModel\n"
   ]
  },
  {
   "cell_type": "code",
   "execution_count": 6,
   "metadata": {},
   "outputs": [],
   "source": [
    "# General Auxiliary Functions\n"
   ]
  },
  {
   "cell_type": "markdown",
   "metadata": {},
   "source": [
    "## Fashion MNIST Classification with 2D Convolution Net\n",
    "\n",
    "This notebook shows the use of [`Conv2d`](https://pytorch.org/docs/stable/generated/torch.nn.Conv2d.html) layer.  \n",
    "The 2D Convolution layer means there are 2 _degrees of freedom_ for the kernel movement.\n",
    "\n",
    "This notebook applies image classification (Single label per image) on the [Fashion MNIST Data Set](https://github.com/zalandoresearch/fashion-mnist).  \n",
    "\n",
    "The notebook presents:\n",
    "\n",
    " * Building a 2D convolution based model which fits _Computer Vision_ tasks.\n",
    " * Use of [`torch.nn.Conv2d`](https://pytorch.org/docs/stable/generated/torch.nn.Conv2d.html).\n",
    " * Use of [`torch.nn.BatchNorm2d`](https://pytorch.org/docs/stable/generated/torch.nn.BatchNorm2d.html#torch.nn.BatchNorm2d).\n",
    " * Evaluating several models using TensorBoard.\n"
   ]
  },
  {
   "cell_type": "code",
   "execution_count": 7,
   "metadata": {},
   "outputs": [],
   "source": [
    "# Parameters\n",
    "\n",
    "# Data\n",
    "numSamplesTrain = 60_000\n",
    "numSamplesTest  = 10_000\n",
    "\n",
    "# Model\n",
    "dropP = 0.2 #<! Dropout Layer\n",
    "\n",
    "# Training\n",
    "batchSize   = 256\n",
    "numWork     = 2 #<! Number of workers\n",
    "nEpochs     = 30\n",
    "\n",
    "# Visualization\n",
    "numImg = 3\n"
   ]
  },
  {
   "cell_type": "markdown",
   "metadata": {},
   "source": [
    "## Generate / Load Data\n",
    "\n",
    "Load the [Fashion MNIST Data Set](https://github.com/zalandoresearch/fashion-mnist).  \n",
    "\n",
    "The _Fashion MNIST Data Set_ is considerably more challenging than the original MNIST though it is still no match to Deep Learning models.\n",
    "\n",
    "* <font color='brown'>(**#**)</font> The data set is available at [OpenML - Fashion MNIST](https://www.openml.org/search?type=data&id=40996).  \n",
    "  Yet it is not separated into the original _test_ and _train_ sets."
   ]
  },
  {
   "cell_type": "code",
   "execution_count": 8,
   "metadata": {},
   "outputs": [
    {
     "name": "stdout",
     "output_type": "stream",
     "text": [
      "The features data shape: (70000, 784)\n",
      "The labels data shape: (70000,)\n",
      "The unique values of the labels: [0 1 2 3 4 5 6 7 8 9]\n"
     ]
    }
   ],
   "source": [
    "# Load Data\n",
    "\n",
    "mX, vY = fetch_openml('Fashion-MNIST', version = 1, return_X_y = True, as_frame = False, parser = 'auto')\n",
    "vY = vY.astype(np.int_) #<! The labels are strings, convert to integer\n",
    "\n",
    "print(f'The features data shape: {mX.shape}')\n",
    "print(f'The labels data shape: {vY.shape}')\n",
    "print(f'The unique values of the labels: {np.unique(vY)}')"
   ]
  },
  {
   "cell_type": "markdown",
   "metadata": {},
   "source": [
    "* <font color='brown'>(**#**)</font> The images are grayscale with size `28x28`."
   ]
  },
  {
   "cell_type": "code",
   "execution_count": 9,
   "metadata": {},
   "outputs": [],
   "source": [
    "# Pre Process Data\n",
    "\n",
    "mX = mX / 255.0"
   ]
  },
  {
   "cell_type": "markdown",
   "metadata": {},
   "source": [
    "* <font color='red'>(**?**)</font> Does the scaling affects the standardization (Zero mean, Unit variance) process?"
   ]
  },
  {
   "cell_type": "markdown",
   "metadata": {},
   "source": [
    "### Plot the Data"
   ]
  },
  {
   "cell_type": "code",
   "execution_count": 10,
   "metadata": {},
   "outputs": [
    {
     "data": {
      "image/png": "[encoded data removed]",
      "text/plain": [
       "<Figure size 900x900 with 9 Axes>"
      ]
     },
     "metadata": {},
     "output_type": "display_data"
    }
   ],
   "source": [
    "# Plot the Data\n",
    "\n",
    "hF = PlotMnistImages(mX, vY, numImg)\n",
    "plt.show()"
   ]
  },
  {
   "cell_type": "code",
   "execution_count": 11,
   "metadata": {},
   "outputs": [
    {
     "data": {
      "image/png": "[encoded data removed]",
      "text/plain": [
       "<Figure size 800x600 with 1 Axes>"
      ]
     },
     "metadata": {},
     "output_type": "display_data"
    }
   ],
   "source": [
    "# Histogram of Labels\n",
    "\n",
    "hA = PlotLabelsHistogram(vY, lClass = L_CLASSES_FASHION_MNIST)\n",
    "plt.show()"
   ]
  },
  {
   "cell_type": "markdown",
   "metadata": {},
   "source": [
    "## Train & Test Split"
   ]
  },
  {
   "cell_type": "code",
   "execution_count": 12,
   "metadata": {},
   "outputs": [
    {
     "name": "stdout",
     "output_type": "stream",
     "text": [
      "The training features data shape: (60000, 784)\n",
      "The training labels data shape: (60000,)\n",
      "The test features data shape: (10000, 784)\n",
      "The test labels data shape: (10000,)\n",
      "The unique values of the labels: [0 1 2 3 4 5 6 7 8 9]\n"
     ]
    }
   ],
   "source": [
    "# Train Test Split\n",
    "\n",
    "numClass = len(np.unique(vY))\n",
    "\n",
    "#===========================Fill This===========================#\n",
    "# 1. Split the data into train and test (Validation) data sets (NumPy arrays).\n",
    "# 2. Use stratified split.\n",
    "# !! The output should be: `mXTrain`, `mXTest`, `vYTrain`, `vYTest`.\n",
    "mXTrain, mXTest, vYTrain, vYTest = train_test_split(mX, vY, test_size = numSamplesTest, train_size = numSamplesTrain, shuffle = True, stratify = vY)\n",
    "\n",
    "#===============================================================#\n",
    "\n",
    "print(f'The training features data shape: {mXTrain.shape}')\n",
    "print(f'The training labels data shape: {vYTrain.shape}')\n",
    "print(f'The test features data shape: {mXTest.shape}')\n",
    "print(f'The test labels data shape: {vYTest.shape}')\n",
    "print(f'The unique values of the labels: {np.unique(vY)}')"
   ]
  },
  {
   "cell_type": "code",
   "execution_count": 13,
   "metadata": {},
   "outputs": [
    {
     "name": "stdout",
     "output_type": "stream",
     "text": [
      "The training data set data shape: (60000, 1, 28, 28)\n",
      "The test data set data shape: (10000, 1, 28, 28)\n"
     ]
    }
   ],
   "source": [
    "# Torch Datasets\n",
    "\n",
    "#===========================Fill This===========================#\n",
    "# 1. Convert the arrays to the 2D shape as needed.\n",
    "# 2. Generate Torch data sets from the NumPy arrays.\n",
    "# !! The output should be: `dsTrain`, `dsTest`.\n",
    "# !! Verify the number of channels is well defined.\n",
    "# !! The `T_IMG_SIZE_MNIST` tuple might be useful.\n",
    "# !! The `torch.utils.data.TensorDataset` class might be useful.\n",
    "# !! Pay attention to the type of the data as tensors.\n",
    "dsTrain = torch.utils.data.TensorDataset(torch.tensor(np.reshape(mXTrain, (numSamplesTrain, 1, *T_IMG_SIZE_MNIST)), dtype = torch.float32), torch.tensor(vYTrain, dtype = torch.long))\n",
    "dsTest  = torch.utils.data.TensorDataset(torch.tensor(np.reshape(mXTest, (numSamplesTest, 1, *T_IMG_SIZE_MNIST)), dtype = torch.float32), torch.tensor(vYTest, dtype = torch.long))\n",
    "\n",
    "#===============================================================#\n",
    "\n",
    "print(f'The training data set data shape: {(len(dsTrain), *dsTrain.tensors[0].shape[1:])}')\n",
    "print(f'The test data set data shape: {(len(dsTest), *dsTrain.tensors[0].shape[1:])}')"
   ]
  },
  {
   "cell_type": "markdown",
   "metadata": {},
   "source": [
    "## Pre Process Data\n",
    "\n",
    "This section normalizes the data to have zero mean and unit variance per **channel**.  \n",
    "It is required to calculate:\n",
    "\n",
    " * The average pixel value per channel.\n",
    " * The standard deviation per channel."
   ]
  },
  {
   "cell_type": "code",
   "execution_count": 14,
   "metadata": {},
   "outputs": [
    {
     "name": "stdout",
     "output_type": "stream",
     "text": [
      "µ = tensor(0.2861)\n",
      "σ = tensor(0.3529)\n"
     ]
    }
   ],
   "source": [
    "# Calculate the Standardization Parameters\n",
    "\n",
    "#===========================Fill This===========================#\n",
    "# 1. Calculate the mean per channel.\n",
    "# 2. Calculate the standard deviation per channel.\n",
    "µ = torch.mean(dsTrain.tensors[0])\n",
    "σ = torch.std(dsTrain.tensors[0])\n",
    "#===============================================================#\n",
    "\n",
    "print('µ =', µ)\n",
    "print('σ =', σ)"
   ]
  },
  {
   "cell_type": "code",
   "execution_count": 15,
   "metadata": {},
   "outputs": [],
   "source": [
    "# Update Transformer\n",
    "\n",
    "#===========================Fill This===========================#\n",
    "# 1. Define a transformer which normalizes the data.\n",
    "# 2. Update the `transform` object in `dsTrain` and `dsTest`.\n",
    "oDataTrns = torchvision.transforms.Compose([  #<! Chaining transformations\n",
    "    torchvision.transforms.ToTensor(),        #<! Convert to Tensor (C x H x W), Normalizes into [0, 1] (https://pytorch.org/vision/main/generated/torchvision.transforms.ToTensor.html)\n",
    "    torchvision.transforms.Normalize(µ, σ),   #<! Normalizes the Data (https://pytorch.org/vision/main/generated/torchvision.transforms.Normalize.html)\n",
    "    ])\n",
    "\n",
    "# Update the DS transformer\n",
    "dsTrain.transform = oDataTrns\n",
    "dsTest.transform  = oDataTrns\n",
    "#===============================================================#\n"
   ]
  },
  {
   "cell_type": "code",
   "execution_count": 16,
   "metadata": {},
   "outputs": [
    {
     "data": {
      "image/png": "[encoded data removed]",
      "text/plain": [
       "<Figure size 640x480 with 1 Axes>"
      ]
     },
     "metadata": {},
     "output_type": "display_data"
    }
   ],
   "source": [
    "# \"Normalized\" Image\n",
    "\n",
    "mX, valY = dsTrain[5]\n",
    "\n",
    "hF, hA = plt.subplots()\n",
    "hA.imshow(np.transpose(mX, (1, 2, 0)))\n",
    "plt.show()"
   ]
  },
  {
   "cell_type": "markdown",
   "metadata": {},
   "source": [
    "### Data Loaders\n",
    "\n",
    "The dataloader is the functionality which loads the data into memory in batches.  \n",
    "Its challenge is to bring data fast enough so the Hard Disk is not the training bottleneck.  \n",
    "In order to achieve that, Multi Threading / Multi Process is used.\n"
   ]
  },
  {
   "cell_type": "code",
   "execution_count": 17,
   "metadata": {},
   "outputs": [],
   "source": [
    "# Data Loader\n",
    "\n",
    "#===========================Fill This===========================#\n",
    "# 1. Create the train data loader.\n",
    "# 2. Create the test data loader.\n",
    "# !! Think about the values of `shuffle` and `batch_size` for the train / test.\n",
    "dlTrain  = torch.utils.data.DataLoader(dsTrain, shuffle = True, batch_size = 1 * batchSize, num_workers = numWork, persistent_workers = True)\n",
    "dlTest   = torch.utils.data.DataLoader(dsTest, shuffle = False, batch_size = 2 * batchSize, num_workers = numWork, persistent_workers = True)\n",
    "#===============================================================#\n"
   ]
  },
  {
   "cell_type": "code",
   "execution_count": 18,
   "metadata": {},
   "outputs": [
    {
     "name": "stdout",
     "output_type": "stream",
     "text": [
      "The batch features dimensions: torch.Size([256, 1, 28, 28])\n",
      "The batch labels dimensions: torch.Size([256])\n"
     ]
    }
   ],
   "source": [
    "# Iterate on the Loader\n",
    "# The first batch.\n",
    "tX, vY = next(iter(dlTrain)) #<! PyTorch Tensors\n",
    "\n",
    "print(f'The batch features dimensions: {tX.shape}')\n",
    "print(f'The batch labels dimensions: {vY.shape}')"
   ]
  },
  {
   "cell_type": "markdown",
   "metadata": {},
   "source": [
    "## Define the Model\n",
    "\n",
    "This section build 3 different models to be evaluated."
   ]
  },
  {
   "cell_type": "code",
   "execution_count": 19,
   "metadata": {},
   "outputs": [],
   "source": [
    "# Model Container\n",
    "lModels = []"
   ]
  },
  {
   "cell_type": "code",
   "execution_count": 20,
   "metadata": {},
   "outputs": [
    {
     "name": "stdout",
     "output_type": "stream",
     "text": [
      "===================================================================================================================\n",
      "Layer (type:depth-idx)                   Kernel Shape              Output Shape              Param #\n",
      "===================================================================================================================\n",
      "Sequential                               --                        [256, 10]                 --\n",
      "├─Identity: 1-1                          --                        [256, 1, 28, 28]          --\n",
      "├─Conv2d: 1-2                            [3, 3]                    [256, 30, 26, 26]         270\n",
      "├─BatchNorm2d: 1-3                       --                        [256, 30, 26, 26]         60\n",
      "├─ReLU: 1-4                              --                        [256, 30, 26, 26]         --\n",
      "├─Dropout2d: 1-5                         --                        [256, 30, 26, 26]         --\n",
      "├─Conv2d: 1-6                            [3, 3]                    [256, 60, 24, 24]         16,200\n",
      "├─MaxPool2d: 1-7                         2                         [256, 60, 12, 12]         --\n",
      "├─BatchNorm2d: 1-8                       --                        [256, 60, 12, 12]         120\n",
      "├─ReLU: 1-9                              --                        [256, 60, 12, 12]         --\n",
      "├─Dropout2d: 1-10                        --                        [256, 60, 12, 12]         --\n",
      "├─Conv2d: 1-11                           [3, 3]                    [256, 120, 10, 10]        64,800\n",
      "├─MaxPool2d: 1-12                        2                         [256, 120, 5, 5]          --\n",
      "├─BatchNorm2d: 1-13                      --                        [256, 120, 5, 5]          240\n",
      "├─ReLU: 1-14                             --                        [256, 120, 5, 5]          --\n",
      "├─Dropout2d: 1-15                        --                        [256, 120, 5, 5]          --\n",
      "├─AdaptiveAvgPool2d: 1-16                --                        [256, 120, 1, 1]          --\n",
      "├─Flatten: 1-17                          --                        [256, 120]                --\n",
      "├─Linear: 1-18                           --                        [256, 10]                 1,210\n",
      "===================================================================================================================\n",
      "Total params: 82,900\n",
      "Trainable params: 82,900\n",
      "Non-trainable params: 0\n",
      "Total mult-adds (Units.GIGABYTES): 4.09\n",
      "===================================================================================================================\n",
      "Input size (MB): 0.80\n",
      "Forward/backward pass size (MB): 202.28\n",
      "Params size (MB): 0.33\n",
      "Estimated Total Size (MB): 203.42\n",
      "===================================================================================================================\n"
     ]
    }
   ],
   "source": [
    "# Model 1\n",
    "# Defining a sequential model.\n",
    "\n",
    "oModel = nn.Sequential(\n",
    "#===========================Fill This===========================#\n",
    "# 1. Create the 1st model.\n",
    "# 2. Use 3 layers.\n",
    "# !! You may use different kernel size, dropout probability, max pooling, etc...\n",
    "\n",
    "    nn.Identity(),\n",
    "    \n",
    "    nn.Conv2d(in_channels = 1, out_channels = 30, kernel_size = 3, bias = False),\n",
    "    nn.BatchNorm2d(num_features = 30),\n",
    "    nn.ReLU(),\n",
    "    nn.Dropout2d(p = dropP),\n",
    "    \n",
    "    nn.Conv2d(in_channels = 30, out_channels = 60, kernel_size = 3, bias = False),\n",
    "    nn.MaxPool2d(kernel_size = 2),\n",
    "    nn.BatchNorm2d(num_features = 60),\n",
    "    nn.ReLU(),\n",
    "    nn.Dropout2d(p = dropP),\n",
    "            \n",
    "    nn.Conv2d(in_channels = 60,  out_channels = 120, kernel_size = 3, bias = False),\n",
    "    nn.MaxPool2d(kernel_size = 2),\n",
    "    nn.BatchNorm2d(num_features = 120),\n",
    "    nn.ReLU(),\n",
    "    nn.Dropout2d(p = dropP),\n",
    "    \n",
    "    nn.AdaptiveAvgPool2d(1),\n",
    "    nn.Flatten(),\n",
    "    nn.Linear(120, len(L_CLASSES_FASHION_MNIST)),\n",
    "#===============================================================#\n",
    ")\n",
    "\n",
    "info = torchinfo.summary(oModel, tX.shape, col_names = ['kernel_size', 'output_size', 'num_params'], device = 'cpu') #<! Added `kernel_size`\n",
    "print(info)\n",
    "layers1 = []\n",
    "for layer in info.summary_list:\n",
    "    layers1.append((layer.class_name, layer.num_params))\n",
    "\n",
    "\n",
    "# Append Model\n",
    "lModels.append(oModel)"
   ]
  },
  {
   "cell_type": "code",
   "execution_count": 21,
   "metadata": {},
   "outputs": [
    {
     "name": "stdout",
     "output_type": "stream",
     "text": [
      "===================================================================================================================\n",
      "Layer (type:depth-idx)                   Kernel Shape              Output Shape              Param #\n",
      "===================================================================================================================\n",
      "Sequential                               --                        [256, 10]                 --\n",
      "├─Identity: 1-1                          --                        [256, 1, 28, 28]          --\n",
      "├─Conv2d: 1-2                            [5, 5]                    [256, 30, 24, 24]         750\n",
      "├─BatchNorm2d: 1-3                       --                        [256, 30, 24, 24]         60\n",
      "├─ReLU: 1-4                              --                        [256, 30, 24, 24]         --\n",
      "├─Dropout2d: 1-5                         --                        [256, 30, 24, 24]         --\n",
      "├─Conv2d: 1-6                            [5, 5]                    [256, 60, 20, 20]         45,000\n",
      "├─BatchNorm2d: 1-7                       --                        [256, 60, 20, 20]         120\n",
      "├─ReLU: 1-8                              --                        [256, 60, 20, 20]         --\n",
      "├─Dropout2d: 1-9                         --                        [256, 60, 20, 20]         --\n",
      "├─Conv2d: 1-10                           [5, 5]                    [256, 120, 16, 16]        180,000\n",
      "├─BatchNorm2d: 1-11                      --                        [256, 120, 16, 16]        240\n",
      "├─ReLU: 1-12                             --                        [256, 120, 16, 16]        --\n",
      "├─Dropout2d: 1-13                        --                        [256, 120, 16, 16]        --\n",
      "├─AdaptiveAvgPool2d: 1-14                --                        [256, 120, 1, 1]          --\n",
      "├─Flatten: 1-15                          --                        [256, 120]                --\n",
      "├─Linear: 1-16                           --                        [256, 10]                 1,210\n",
      "===================================================================================================================\n",
      "Total params: 227,380\n",
      "Trainable params: 227,380\n",
      "Non-trainable params: 0\n",
      "Total mult-adds (Units.GIGABYTES): 16.52\n",
      "===================================================================================================================\n",
      "Input size (MB): 0.80\n",
      "Forward/backward pass size (MB): 294.93\n",
      "Params size (MB): 0.91\n",
      "Estimated Total Size (MB): 296.64\n",
      "===================================================================================================================\n"
     ]
    }
   ],
   "source": [
    "# Model 2\n",
    "# Defining a sequential model.\n",
    "\n",
    "oModel = nn.Sequential(\n",
    "#===========================Fill This===========================#\n",
    "# 1. Create the 2nd model.\n",
    "# 2. Use 3 layers.\n",
    "# !! You may use different kernel size, dropout probability, max pooling, etc...\n",
    "\n",
    "    nn.Identity(),\n",
    "    \n",
    "    nn.Conv2d(in_channels = 1, out_channels = 30, kernel_size = 5, bias = False),\n",
    "    nn.BatchNorm2d(num_features = 30),\n",
    "    nn.ReLU(),\n",
    "    nn.Dropout2d(p = dropP),\n",
    "    \n",
    "    nn.Conv2d(in_channels = 30, out_channels = 60, kernel_size = 5, bias = False),\n",
    "    nn.BatchNorm2d(num_features = 60),\n",
    "    nn.ReLU(),\n",
    "    nn.Dropout2d(p = dropP),\n",
    "            \n",
    "    nn.Conv2d(in_channels = 60,  out_channels = 120, kernel_size = 5, bias = False),\n",
    "    nn.BatchNorm2d(num_features = 120),\n",
    "    nn.ReLU(),\n",
    "    nn.Dropout2d(p = dropP),\n",
    "    \n",
    "    nn.AdaptiveAvgPool2d(1),\n",
    "    nn.Flatten(),\n",
    "    nn.Linear(120, len(L_CLASSES_FASHION_MNIST)),\n",
    "#===============================================================#\n",
    ")\n",
    "\n",
    "info = torchinfo.summary(oModel, tX.shape, col_names = ['kernel_size', 'output_size', 'num_params'], device = 'cpu') #<! Added `kernel_size`\n",
    "print(info)\n",
    "layers2 = []\n",
    "for layer in info.summary_list:\n",
    "    layers2.append((layer.class_name, layer.num_params))\n",
    "    \n",
    "# Append Model\n",
    "lModels.append(oModel)"
   ]
  },
  {
   "cell_type": "code",
   "execution_count": 22,
   "metadata": {},
   "outputs": [
    {
     "name": "stdout",
     "output_type": "stream",
     "text": [
      "===================================================================================================================\n",
      "Layer (type:depth-idx)                   Kernel Shape              Output Shape              Param #\n",
      "===================================================================================================================\n",
      "Sequential                               --                        [256, 10]                 --\n",
      "├─Identity: 1-1                          --                        [256, 1, 28, 28]          --\n",
      "├─Conv2d: 1-2                            [7, 7]                    [256, 30, 22, 22]         1,470\n",
      "├─MaxPool2d: 1-3                         2                         [256, 30, 11, 11]         --\n",
      "├─BatchNorm2d: 1-4                       --                        [256, 30, 11, 11]         60\n",
      "├─ReLU: 1-5                              --                        [256, 30, 11, 11]         --\n",
      "├─Dropout2d: 1-6                         --                        [256, 30, 11, 11]         --\n",
      "├─Conv2d: 1-7                            [5, 5]                    [256, 60, 7, 7]           45,000\n",
      "├─MaxPool2d: 1-8                         2                         [256, 60, 3, 3]           --\n",
      "├─BatchNorm2d: 1-9                       --                        [256, 60, 3, 3]           120\n",
      "├─ReLU: 1-10                             --                        [256, 60, 3, 3]           --\n",
      "├─Dropout2d: 1-11                        --                        [256, 60, 3, 3]           --\n",
      "├─Conv2d: 1-12                           [3, 3]                    [256, 120, 1, 1]          64,800\n",
      "├─BatchNorm2d: 1-13                      --                        [256, 120, 1, 1]          240\n",
      "├─ReLU: 1-14                             --                        [256, 120, 1, 1]          --\n",
      "├─Dropout2d: 1-15                        --                        [256, 120, 1, 1]          --\n",
      "├─AdaptiveAvgPool2d: 1-16                --                        [256, 120, 1, 1]          --\n",
      "├─Flatten: 1-17                          --                        [256, 120]                --\n",
      "├─Linear: 1-18                           --                        [256, 10]                 1,210\n",
      "===================================================================================================================\n",
      "Total params: 112,900\n",
      "Trainable params: 112,900\n",
      "Non-trainable params: 0\n",
      "Total mult-adds (Units.MEGABYTES): 763.62\n",
      "===================================================================================================================\n",
      "Input size (MB): 0.80\n",
      "Forward/backward pass size (MB): 44.81\n",
      "Params size (MB): 0.45\n",
      "Estimated Total Size (MB): 46.06\n",
      "===================================================================================================================\n"
     ]
    }
   ],
   "source": [
    "# Model 3\n",
    "# Defining a sequential model.\n",
    "\n",
    "oModel = nn.Sequential(\n",
    "#===========================Fill This===========================#\n",
    "# 1. Create the 3rd model.\n",
    "# 2. Use 3 layers.\n",
    "# !! You may use different kernel size, dropout probability, max pooling, etc...\n",
    "\n",
    "    nn.Identity(),\n",
    "    \n",
    "    nn.Conv2d(in_channels = 1, out_channels = 30, kernel_size = 7, bias = False),\n",
    "    nn.MaxPool2d(kernel_size = 2),\n",
    "    nn.BatchNorm2d(num_features = 30),\n",
    "    nn.ReLU(),\n",
    "    nn.Dropout2d(p = dropP),\n",
    "    \n",
    "    nn.Conv2d(in_channels = 30, out_channels = 60, kernel_size = 5, bias = False),\n",
    "    nn.MaxPool2d(kernel_size = 2),\n",
    "    nn.BatchNorm2d(num_features = 60),\n",
    "    nn.ReLU(),\n",
    "    nn.Dropout2d(p = dropP),\n",
    "            \n",
    "    nn.Conv2d(in_channels = 60,  out_channels = 120, kernel_size = 3, bias = False),\n",
    "    nn.BatchNorm2d(num_features = 120),\n",
    "    nn.ReLU(),\n",
    "    nn.Dropout2d(p = dropP),\n",
    "    \n",
    "    nn.AdaptiveAvgPool2d(1),\n",
    "    nn.Flatten(),\n",
    "    nn.Linear(120, len(L_CLASSES_FASHION_MNIST)),\n",
    "#===============================================================#\n",
    ")\n",
    "\n",
    "info = torchinfo.summary(oModel, tX.shape, col_names = ['kernel_size', 'output_size', 'num_params'], device = 'cpu') #<! Added `kernel_size`\n",
    "print(info)\n",
    "layers3 = []\n",
    "for layer in info.summary_list:\n",
    "    layers3.append((layer.class_name, layer.num_params))\n",
    "\n",
    "# Append Model\n",
    "lModels.append(oModel)"
   ]
  },
  {
   "cell_type": "code",
   "execution_count": 23,
   "metadata": {},
   "outputs": [
    {
     "data": {
      "text/html": [
       "<div>\n",
       "<style scoped>\n",
       "    .dataframe tbody tr th:only-of-type {\n",
       "        vertical-align: middle;\n",
       "    }\n",
       "\n",
       "    .dataframe tbody tr th {\n",
       "        vertical-align: top;\n",
       "    }\n",
       "\n",
       "    .dataframe thead th {\n",
       "        text-align: right;\n",
       "    }\n",
       "</style>\n",
       "<table border=\"1\" class=\"dataframe\">\n",
       "  <thead>\n",
       "    <tr style=\"text-align: right;\">\n",
       "      <th></th>\n",
       "      <th>0</th>\n",
       "      <th>1</th>\n",
       "      <th>2</th>\n",
       "      <th>3</th>\n",
       "      <th>4</th>\n",
       "      <th>5</th>\n",
       "      <th>6</th>\n",
       "      <th>7</th>\n",
       "      <th>8</th>\n",
       "      <th>9</th>\n",
       "      <th>10</th>\n",
       "      <th>11</th>\n",
       "      <th>12</th>\n",
       "      <th>13</th>\n",
       "      <th>14</th>\n",
       "      <th>15</th>\n",
       "      <th>16</th>\n",
       "      <th>17</th>\n",
       "      <th>18</th>\n",
       "    </tr>\n",
       "  </thead>\n",
       "  <tbody>\n",
       "    <tr>\n",
       "      <th>Model 1</th>\n",
       "      <td>(Sequential, 82900)</td>\n",
       "      <td>(Identity, 0)</td>\n",
       "      <td>(Conv2d, 270)</td>\n",
       "      <td>(BatchNorm2d, 60)</td>\n",
       "      <td>(ReLU, 0)</td>\n",
       "      <td>(Dropout2d, 0)</td>\n",
       "      <td>(Conv2d, 16200)</td>\n",
       "      <td>(MaxPool2d, 0)</td>\n",
       "      <td>(BatchNorm2d, 120)</td>\n",
       "      <td>(ReLU, 0)</td>\n",
       "      <td>(Dropout2d, 0)</td>\n",
       "      <td>(Conv2d, 64800)</td>\n",
       "      <td>(MaxPool2d, 0)</td>\n",
       "      <td>(BatchNorm2d, 240)</td>\n",
       "      <td>(ReLU, 0)</td>\n",
       "      <td>(Dropout2d, 0)</td>\n",
       "      <td>(AdaptiveAvgPool2d, 0)</td>\n",
       "      <td>(Flatten, 0)</td>\n",
       "      <td>(Linear, 1210)</td>\n",
       "    </tr>\n",
       "    <tr>\n",
       "      <th>Model 2</th>\n",
       "      <td>(Sequential, 227380)</td>\n",
       "      <td>(Identity, 0)</td>\n",
       "      <td>(Conv2d, 750)</td>\n",
       "      <td>(BatchNorm2d, 60)</td>\n",
       "      <td>(ReLU, 0)</td>\n",
       "      <td>(Dropout2d, 0)</td>\n",
       "      <td>(Conv2d, 45000)</td>\n",
       "      <td>(BatchNorm2d, 120)</td>\n",
       "      <td>(ReLU, 0)</td>\n",
       "      <td>(Dropout2d, 0)</td>\n",
       "      <td>(Conv2d, 180000)</td>\n",
       "      <td>(BatchNorm2d, 240)</td>\n",
       "      <td>(ReLU, 0)</td>\n",
       "      <td>(Dropout2d, 0)</td>\n",
       "      <td>(AdaptiveAvgPool2d, 0)</td>\n",
       "      <td>(Flatten, 0)</td>\n",
       "      <td>(Linear, 1210)</td>\n",
       "      <td>None</td>\n",
       "      <td>None</td>\n",
       "    </tr>\n",
       "    <tr>\n",
       "      <th>Model 3</th>\n",
       "      <td>(Sequential, 112900)</td>\n",
       "      <td>(Identity, 0)</td>\n",
       "      <td>(Conv2d, 1470)</td>\n",
       "      <td>(MaxPool2d, 0)</td>\n",
       "      <td>(BatchNorm2d, 60)</td>\n",
       "      <td>(ReLU, 0)</td>\n",
       "      <td>(Dropout2d, 0)</td>\n",
       "      <td>(Conv2d, 45000)</td>\n",
       "      <td>(MaxPool2d, 0)</td>\n",
       "      <td>(BatchNorm2d, 120)</td>\n",
       "      <td>(ReLU, 0)</td>\n",
       "      <td>(Dropout2d, 0)</td>\n",
       "      <td>(Conv2d, 64800)</td>\n",
       "      <td>(BatchNorm2d, 240)</td>\n",
       "      <td>(ReLU, 0)</td>\n",
       "      <td>(Dropout2d, 0)</td>\n",
       "      <td>(AdaptiveAvgPool2d, 0)</td>\n",
       "      <td>(Flatten, 0)</td>\n",
       "      <td>(Linear, 1210)</td>\n",
       "    </tr>\n",
       "  </tbody>\n",
       "</table>\n",
       "</div>"
      ],
      "text/plain": [
       "                           0              1               2   \\\n",
       "Model 1   (Sequential, 82900)  (Identity, 0)   (Conv2d, 270)   \n",
       "Model 2  (Sequential, 227380)  (Identity, 0)   (Conv2d, 750)   \n",
       "Model 3  (Sequential, 112900)  (Identity, 0)  (Conv2d, 1470)   \n",
       "\n",
       "                        3                  4               5   \\\n",
       "Model 1  (BatchNorm2d, 60)          (ReLU, 0)  (Dropout2d, 0)   \n",
       "Model 2  (BatchNorm2d, 60)          (ReLU, 0)  (Dropout2d, 0)   \n",
       "Model 3     (MaxPool2d, 0)  (BatchNorm2d, 60)       (ReLU, 0)   \n",
       "\n",
       "                      6                   7                   8   \\\n",
       "Model 1  (Conv2d, 16200)      (MaxPool2d, 0)  (BatchNorm2d, 120)   \n",
       "Model 2  (Conv2d, 45000)  (BatchNorm2d, 120)           (ReLU, 0)   \n",
       "Model 3   (Dropout2d, 0)     (Conv2d, 45000)      (MaxPool2d, 0)   \n",
       "\n",
       "                         9                 10                  11  \\\n",
       "Model 1           (ReLU, 0)    (Dropout2d, 0)     (Conv2d, 64800)   \n",
       "Model 2      (Dropout2d, 0)  (Conv2d, 180000)  (BatchNorm2d, 240)   \n",
       "Model 3  (BatchNorm2d, 120)         (ReLU, 0)      (Dropout2d, 0)   \n",
       "\n",
       "                      12                  13                      14  \\\n",
       "Model 1   (MaxPool2d, 0)  (BatchNorm2d, 240)               (ReLU, 0)   \n",
       "Model 2        (ReLU, 0)      (Dropout2d, 0)  (AdaptiveAvgPool2d, 0)   \n",
       "Model 3  (Conv2d, 64800)  (BatchNorm2d, 240)               (ReLU, 0)   \n",
       "\n",
       "                     15                      16            17              18  \n",
       "Model 1  (Dropout2d, 0)  (AdaptiveAvgPool2d, 0)  (Flatten, 0)  (Linear, 1210)  \n",
       "Model 2    (Flatten, 0)          (Linear, 1210)          None            None  \n",
       "Model 3  (Dropout2d, 0)  (AdaptiveAvgPool2d, 0)  (Flatten, 0)  (Linear, 1210)  "
      ]
     },
     "execution_count": 23,
     "metadata": {},
     "output_type": "execute_result"
    }
   ],
   "source": [
    "summary = pd.DataFrame([layers1, layers2, layers3])\n",
    "summary.index = ['Model 1', 'Model 2', 'Model 3']\n",
    "summary"
   ]
  },
  {
   "cell_type": "markdown",
   "metadata": {},
   "source": [
    "* <font color='brown'>(**#**)</font> Guideline: The smaller the image gets, the deeper it is (More channels).   \n",
    "  The intuition, the beginning of the model learns low level features (Small number), deeper learns combinations of features (Larger number)."
   ]
  },
  {
   "cell_type": "markdown",
   "metadata": {},
   "source": [
    "## Training Loop\n"
   ]
  },
  {
   "cell_type": "markdown",
   "metadata": {},
   "source": [
    "### Train the Model"
   ]
  },
  {
   "cell_type": "code",
   "execution_count": 24,
   "metadata": {},
   "outputs": [
    {
     "data": {
      "text/plain": [
       "device(type='cuda', index=0)"
      ]
     },
     "execution_count": 24,
     "metadata": {},
     "output_type": "execute_result"
    }
   ],
   "source": [
    "# Check GPU Availability\n",
    "\n",
    "runDevice   = torch.device('cuda:0' if torch.cuda.is_available() else 'cpu') #<! The 1st CUDA device\n",
    "runDevice\n"
   ]
  },
  {
   "cell_type": "code",
   "execution_count": 25,
   "metadata": {},
   "outputs": [],
   "source": [
    "# Set the Loss & Score\n",
    "\n",
    "#===========================Fill This===========================#\n",
    "# 1. Define loss function\n",
    "# 2. Define score function.\n",
    "hL = nn.CrossEntropyLoss()\n",
    "hS = MulticlassAccuracy(num_classes = len(L_CLASSES_FASHION_MNIST), average = 'micro')\n",
    "hL = hL.to(runDevice) #<! Not required!\n",
    "hS = hS.to(runDevice)\n",
    "#===============================================================#"
   ]
  },
  {
   "cell_type": "code",
   "execution_count": 26,
   "metadata": {},
   "outputs": [
    {
     "data": {
      "text/plain": [
       "'TB'"
      ]
     },
     "execution_count": 26,
     "metadata": {},
     "output_type": "execute_result"
    }
   ],
   "source": [
    "TENSOR_BOARD_BASE"
   ]
  },
  {
   "cell_type": "markdown",
   "metadata": {},
   "source": [
    "run tensor board:\n",
    "\n",
    "```\n",
    "(WorkshopCUDAEnv) ➜  ~ tensorboard --logdir=/home/vlad/tmpLogs/TB --bind_all\n",
    "```"
   ]
  },
  {
   "cell_type": "code",
   "execution_count": 28,
   "metadata": {},
   "outputs": [
    {
     "name": "stdout",
     "output_type": "stream",
     "text": [
      "Epoch    1 / 30 | Train Loss:  1.202 | Val Loss:  0.755 | Train Score:  0.637 | Val Score:  0.758 | Epoch Time:  8.89 | <-- Checkpoint! |\n",
      "Epoch    2 / 30 | Train Loss:  0.712 | Val Loss:  0.554 | Train Score:  0.763 | Val Score:  0.816 | Epoch Time:  5.07 | <-- Checkpoint! |\n",
      "Epoch    3 / 30 | Train Loss:  0.579 | Val Loss:  0.470 | Train Score:  0.801 | Val Score:  0.838 | Epoch Time:  5.05 | <-- Checkpoint! |\n",
      "Epoch    4 / 30 | Train Loss:  0.507 | Val Loss:  0.407 | Train Score:  0.823 | Val Score:  0.857 | Epoch Time:  5.09 | <-- Checkpoint! |\n",
      "Epoch    5 / 30 | Train Loss:  0.464 | Val Loss:  0.386 | Train Score:  0.838 | Val Score:  0.864 | Epoch Time:  5.06 | <-- Checkpoint! |\n",
      "Epoch    6 / 30 | Train Loss:  0.438 | Val Loss:  0.349 | Train Score:  0.846 | Val Score:  0.874 | Epoch Time:  5.06 | <-- Checkpoint! |\n",
      "Epoch    7 / 30 | Train Loss:  0.416 | Val Loss:  0.339 | Train Score:  0.855 | Val Score:  0.879 | Epoch Time:  5.09 | <-- Checkpoint! |\n",
      "Epoch    8 / 30 | Train Loss:  0.401 | Val Loss:  0.321 | Train Score:  0.860 | Val Score:  0.884 | Epoch Time:  5.10 | <-- Checkpoint! |\n",
      "Epoch    9 / 30 | Train Loss:  0.386 | Val Loss:  0.306 | Train Score:  0.864 | Val Score:  0.890 | Epoch Time:  5.08 | <-- Checkpoint! |\n",
      "Epoch   10 / 30 | Train Loss:  0.377 | Val Loss:  0.304 | Train Score:  0.867 | Val Score:  0.889 | Epoch Time:  5.18 |\n",
      "Epoch   11 / 30 | Train Loss:  0.367 | Val Loss:  0.294 | Train Score:  0.870 | Val Score:  0.892 | Epoch Time:  5.14 | <-- Checkpoint! |\n",
      "Epoch   12 / 30 | Train Loss:  0.361 | Val Loss:  0.288 | Train Score:  0.873 | Val Score:  0.895 | Epoch Time:  5.10 | <-- Checkpoint! |\n",
      "Epoch   13 / 30 | Train Loss:  0.352 | Val Loss:  0.280 | Train Score:  0.875 | Val Score:  0.898 | Epoch Time:  5.12 | <-- Checkpoint! |\n",
      "Epoch   14 / 30 | Train Loss:  0.345 | Val Loss:  0.279 | Train Score:  0.878 | Val Score:  0.898 | Epoch Time:  5.03 |\n",
      "Epoch   15 / 30 | Train Loss:  0.338 | Val Loss:  0.270 | Train Score:  0.879 | Val Score:  0.902 | Epoch Time:  5.06 | <-- Checkpoint! |\n",
      "Epoch   16 / 30 | Train Loss:  0.334 | Val Loss:  0.269 | Train Score:  0.880 | Val Score:  0.902 | Epoch Time:  5.08 |\n",
      "Epoch   17 / 30 | Train Loss:  0.329 | Val Loss:  0.272 | Train Score:  0.884 | Val Score:  0.904 | Epoch Time:  5.09 | <-- Checkpoint! |\n",
      "Epoch   18 / 30 | Train Loss:  0.326 | Val Loss:  0.268 | Train Score:  0.885 | Val Score:  0.902 | Epoch Time:  5.07 |\n",
      "Epoch   19 / 30 | Train Loss:  0.319 | Val Loss:  0.261 | Train Score:  0.888 | Val Score:  0.904 | Epoch Time:  5.11 | <-- Checkpoint! |\n",
      "Epoch   20 / 30 | Train Loss:  0.320 | Val Loss:  0.254 | Train Score:  0.887 | Val Score:  0.908 | Epoch Time:  5.74 | <-- Checkpoint! |\n",
      "Epoch   21 / 30 | Train Loss:  0.311 | Val Loss:  0.253 | Train Score:  0.889 | Val Score:  0.909 | Epoch Time:  5.11 | <-- Checkpoint! |\n",
      "Epoch   22 / 30 | Train Loss:  0.307 | Val Loss:  0.249 | Train Score:  0.891 | Val Score:  0.909 | Epoch Time:  5.09 | <-- Checkpoint! |\n",
      "Epoch   23 / 30 | Train Loss:  0.308 | Val Loss:  0.248 | Train Score:  0.891 | Val Score:  0.912 | Epoch Time:  5.17 | <-- Checkpoint! |\n",
      "Epoch   24 / 30 | Train Loss:  0.302 | Val Loss:  0.254 | Train Score:  0.893 | Val Score:  0.909 | Epoch Time:  5.10 |\n",
      "Epoch   25 / 30 | Train Loss:  0.301 | Val Loss:  0.247 | Train Score:  0.893 | Val Score:  0.911 | Epoch Time:  5.08 |\n",
      "Epoch   26 / 30 | Train Loss:  0.300 | Val Loss:  0.245 | Train Score:  0.894 | Val Score:  0.912 | Epoch Time:  5.09 | <-- Checkpoint! |\n",
      "Epoch   27 / 30 | Train Loss:  0.292 | Val Loss:  0.240 | Train Score:  0.897 | Val Score:  0.913 | Epoch Time:  5.09 | <-- Checkpoint! |\n",
      "Epoch   28 / 30 | Train Loss:  0.292 | Val Loss:  0.242 | Train Score:  0.896 | Val Score:  0.913 | Epoch Time:  5.07 | <-- Checkpoint! |\n",
      "Epoch   29 / 30 | Train Loss:  0.288 | Val Loss:  0.236 | Train Score:  0.897 | Val Score:  0.915 | Epoch Time:  5.09 | <-- Checkpoint! |\n",
      "Epoch   30 / 30 | Train Loss:  0.287 | Val Loss:  0.236 | Train Score:  0.899 | Val Score:  0.916 | Epoch Time:  5.10 | <-- Checkpoint! |\n",
      "Epoch    1 / 30 | Train Loss:  1.082 | Val Loss:  0.677 | Train Score:  0.652 | Val Score:  0.764 | Epoch Time: 11.92 | <-- Checkpoint! |\n",
      "Epoch    2 / 30 | Train Loss:  0.687 | Val Loss:  0.550 | Train Score:  0.753 | Val Score:  0.800 | Epoch Time:  7.71 | <-- Checkpoint! |\n",
      "Epoch    3 / 30 | Train Loss:  0.587 | Val Loss:  0.480 | Train Score:  0.787 | Val Score:  0.827 | Epoch Time:  7.75 | <-- Checkpoint! |\n",
      "Epoch    4 / 30 | Train Loss:  0.533 | Val Loss:  0.438 | Train Score:  0.807 | Val Score:  0.841 | Epoch Time:  7.71 | <-- Checkpoint! |\n",
      "Epoch    5 / 30 | Train Loss:  0.500 | Val Loss:  0.420 | Train Score:  0.819 | Val Score:  0.846 | Epoch Time:  7.71 | <-- Checkpoint! |\n",
      "Epoch    6 / 30 | Train Loss:  0.471 | Val Loss:  0.389 | Train Score:  0.831 | Val Score:  0.858 | Epoch Time:  7.67 | <-- Checkpoint! |\n",
      "Epoch    7 / 30 | Train Loss:  0.449 | Val Loss:  0.376 | Train Score:  0.840 | Val Score:  0.868 | Epoch Time:  7.69 | <-- Checkpoint! |\n",
      "Epoch    8 / 30 | Train Loss:  0.432 | Val Loss:  0.355 | Train Score:  0.844 | Val Score:  0.871 | Epoch Time:  7.70 | <-- Checkpoint! |\n",
      "Epoch    9 / 30 | Train Loss:  0.417 | Val Loss:  0.350 | Train Score:  0.850 | Val Score:  0.872 | Epoch Time:  7.72 | <-- Checkpoint! |\n",
      "Epoch   10 / 30 | Train Loss:  0.407 | Val Loss:  0.335 | Train Score:  0.854 | Val Score:  0.880 | Epoch Time:  7.98 | <-- Checkpoint! |\n",
      "Epoch   11 / 30 | Train Loss:  0.394 | Val Loss:  0.323 | Train Score:  0.859 | Val Score:  0.882 | Epoch Time:  7.70 | <-- Checkpoint! |\n",
      "Epoch   12 / 30 | Train Loss:  0.386 | Val Loss:  0.316 | Train Score:  0.861 | Val Score:  0.887 | Epoch Time:  7.74 | <-- Checkpoint! |\n",
      "Epoch   13 / 30 | Train Loss:  0.376 | Val Loss:  0.311 | Train Score:  0.867 | Val Score:  0.890 | Epoch Time:  7.69 | <-- Checkpoint! |\n",
      "Epoch   14 / 30 | Train Loss:  0.368 | Val Loss:  0.309 | Train Score:  0.869 | Val Score:  0.892 | Epoch Time:  7.71 | <-- Checkpoint! |\n",
      "Epoch   15 / 30 | Train Loss:  0.363 | Val Loss:  0.297 | Train Score:  0.870 | Val Score:  0.893 | Epoch Time:  7.67 | <-- Checkpoint! |\n",
      "Epoch   16 / 30 | Train Loss:  0.356 | Val Loss:  0.294 | Train Score:  0.872 | Val Score:  0.894 | Epoch Time:  7.67 | <-- Checkpoint! |\n",
      "Epoch   17 / 30 | Train Loss:  0.349 | Val Loss:  0.282 | Train Score:  0.876 | Val Score:  0.898 | Epoch Time:  7.74 | <-- Checkpoint! |\n",
      "Epoch   18 / 30 | Train Loss:  0.347 | Val Loss:  0.280 | Train Score:  0.877 | Val Score:  0.898 | Epoch Time:  7.73 | <-- Checkpoint! |\n",
      "Epoch   19 / 30 | Train Loss:  0.342 | Val Loss:  0.280 | Train Score:  0.878 | Val Score:  0.898 | Epoch Time:  7.72 | <-- Checkpoint! |\n",
      "Epoch   20 / 30 | Train Loss:  0.335 | Val Loss:  0.271 | Train Score:  0.882 | Val Score:  0.900 | Epoch Time:  7.72 | <-- Checkpoint! |\n",
      "Epoch   21 / 30 | Train Loss:  0.333 | Val Loss:  0.265 | Train Score:  0.881 | Val Score:  0.907 | Epoch Time:  8.09 | <-- Checkpoint! |\n",
      "Epoch   22 / 30 | Train Loss:  0.329 | Val Loss:  0.261 | Train Score:  0.884 | Val Score:  0.907 | Epoch Time:  7.70 | <-- Checkpoint! |\n",
      "Epoch   23 / 30 | Train Loss:  0.325 | Val Loss:  0.276 | Train Score:  0.883 | Val Score:  0.900 | Epoch Time:  7.71 |\n",
      "Epoch   24 / 30 | Train Loss:  0.319 | Val Loss:  0.264 | Train Score:  0.887 | Val Score:  0.906 | Epoch Time:  7.70 |\n",
      "Epoch   25 / 30 | Train Loss:  0.317 | Val Loss:  0.255 | Train Score:  0.887 | Val Score:  0.907 | Epoch Time:  7.70 |\n",
      "Epoch   26 / 30 | Train Loss:  0.314 | Val Loss:  0.253 | Train Score:  0.889 | Val Score:  0.906 | Epoch Time:  7.73 |\n",
      "Epoch   27 / 30 | Train Loss:  0.311 | Val Loss:  0.251 | Train Score:  0.890 | Val Score:  0.908 | Epoch Time:  7.71 | <-- Checkpoint! |\n",
      "Epoch   28 / 30 | Train Loss:  0.311 | Val Loss:  0.253 | Train Score:  0.889 | Val Score:  0.908 | Epoch Time:  7.71 |\n",
      "Epoch   29 / 30 | Train Loss:  0.307 | Val Loss:  0.251 | Train Score:  0.891 | Val Score:  0.909 | Epoch Time:  8.00 | <-- Checkpoint! |\n",
      "Epoch   30 / 30 | Train Loss:  0.301 | Val Loss:  0.249 | Train Score:  0.894 | Val Score:  0.910 | Epoch Time:  7.72 | <-- Checkpoint! |\n",
      "Epoch    1 / 30 | Train Loss:  0.702 | Val Loss:  0.396 | Train Score:  0.769 | Val Score:  0.859 | Epoch Time:  2.93 | <-- Checkpoint! |\n",
      "Epoch    2 / 30 | Train Loss:  0.403 | Val Loss:  0.334 | Train Score:  0.856 | Val Score:  0.877 | Epoch Time:  2.43 | <-- Checkpoint! |\n",
      "Epoch    3 / 30 | Train Loss:  0.355 | Val Loss:  0.302 | Train Score:  0.872 | Val Score:  0.889 | Epoch Time:  2.35 | <-- Checkpoint! |\n",
      "Epoch    4 / 30 | Train Loss:  0.326 | Val Loss:  0.287 | Train Score:  0.882 | Val Score:  0.894 | Epoch Time:  2.39 | <-- Checkpoint! |\n",
      "Epoch    5 / 30 | Train Loss:  0.309 | Val Loss:  0.282 | Train Score:  0.887 | Val Score:  0.897 | Epoch Time:  2.42 | <-- Checkpoint! |\n",
      "Epoch    6 / 30 | Train Loss:  0.297 | Val Loss:  0.275 | Train Score:  0.892 | Val Score:  0.901 | Epoch Time:  2.33 | <-- Checkpoint! |\n",
      "Epoch    7 / 30 | Train Loss:  0.283 | Val Loss:  0.280 | Train Score:  0.895 | Val Score:  0.896 | Epoch Time:  2.35 |\n",
      "Epoch    8 / 30 | Train Loss:  0.274 | Val Loss:  0.268 | Train Score:  0.900 | Val Score:  0.899 | Epoch Time:  2.41 |\n",
      "Epoch    9 / 30 | Train Loss:  0.264 | Val Loss:  0.268 | Train Score:  0.903 | Val Score:  0.901 | Epoch Time:  2.46 |\n",
      "Epoch   10 / 30 | Train Loss:  0.259 | Val Loss:  0.262 | Train Score:  0.903 | Val Score:  0.906 | Epoch Time:  2.36 | <-- Checkpoint! |\n",
      "Epoch   11 / 30 | Train Loss:  0.250 | Val Loss:  0.261 | Train Score:  0.908 | Val Score:  0.906 | Epoch Time:  2.36 |\n",
      "Epoch   12 / 30 | Train Loss:  0.245 | Val Loss:  0.257 | Train Score:  0.909 | Val Score:  0.907 | Epoch Time:  3.11 | <-- Checkpoint! |\n",
      "Epoch   13 / 30 | Train Loss:  0.237 | Val Loss:  0.261 | Train Score:  0.912 | Val Score:  0.909 | Epoch Time:  2.36 | <-- Checkpoint! |\n",
      "Epoch   14 / 30 | Train Loss:  0.234 | Val Loss:  0.263 | Train Score:  0.912 | Val Score:  0.906 | Epoch Time:  2.38 |\n",
      "Epoch   15 / 30 | Train Loss:  0.230 | Val Loss:  0.261 | Train Score:  0.914 | Val Score:  0.905 | Epoch Time:  2.36 |\n",
      "Epoch   16 / 30 | Train Loss:  0.222 | Val Loss:  0.253 | Train Score:  0.916 | Val Score:  0.908 | Epoch Time:  2.28 |\n",
      "Epoch   17 / 30 | Train Loss:  0.222 | Val Loss:  0.257 | Train Score:  0.916 | Val Score:  0.906 | Epoch Time:  2.37 |\n",
      "Epoch   18 / 30 | Train Loss:  0.216 | Val Loss:  0.264 | Train Score:  0.919 | Val Score:  0.905 | Epoch Time:  2.72 |\n",
      "Epoch   19 / 30 | Train Loss:  0.213 | Val Loss:  0.259 | Train Score:  0.922 | Val Score:  0.908 | Epoch Time:  2.40 |\n",
      "Epoch   20 / 30 | Train Loss:  0.212 | Val Loss:  0.259 | Train Score:  0.921 | Val Score:  0.910 | Epoch Time:  2.39 | <-- Checkpoint! |\n",
      "Epoch   21 / 30 | Train Loss:  0.207 | Val Loss:  0.258 | Train Score:  0.923 | Val Score:  0.911 | Epoch Time:  2.41 | <-- Checkpoint! |\n",
      "Epoch   22 / 30 | Train Loss:  0.204 | Val Loss:  0.261 | Train Score:  0.924 | Val Score:  0.909 | Epoch Time:  2.42 |\n",
      "Epoch   23 / 30 | Train Loss:  0.201 | Val Loss:  0.265 | Train Score:  0.924 | Val Score:  0.908 | Epoch Time:  2.44 |\n",
      "Epoch   24 / 30 | Train Loss:  0.199 | Val Loss:  0.259 | Train Score:  0.925 | Val Score:  0.911 | Epoch Time:  2.42 | <-- Checkpoint! |\n",
      "Epoch   25 / 30 | Train Loss:  0.195 | Val Loss:  0.257 | Train Score:  0.927 | Val Score:  0.912 | Epoch Time:  2.30 | <-- Checkpoint! |\n",
      "Epoch   26 / 30 | Train Loss:  0.193 | Val Loss:  0.270 | Train Score:  0.927 | Val Score:  0.906 | Epoch Time:  2.38 |\n",
      "Epoch   27 / 30 | Train Loss:  0.189 | Val Loss:  0.260 | Train Score:  0.930 | Val Score:  0.911 | Epoch Time:  2.37 |\n",
      "Epoch   28 / 30 | Train Loss:  0.187 | Val Loss:  0.263 | Train Score:  0.929 | Val Score:  0.909 | Epoch Time:  2.40 |\n",
      "Epoch   29 / 30 | Train Loss:  0.184 | Val Loss:  0.259 | Train Score:  0.930 | Val Score:  0.911 | Epoch Time:  2.71 |\n",
      "Epoch   30 / 30 | Train Loss:  0.187 | Val Loss:  0.252 | Train Score:  0.930 | Val Score:  0.912 | Epoch Time:  2.58 | <-- Checkpoint! |\n"
     ]
    }
   ],
   "source": [
    "# Train the Model\n",
    "\n",
    "#===========================Fill This===========================#\n",
    "# 1. Build a loop to evaluate all models.\n",
    "# 2. Define a TensorBoard Writer per model to keep its score.\n",
    "# !! You may use `TrainModel()`.\n",
    "\n",
    "for ii, oModel in enumerate(lModels):\n",
    "    # Hyper Parameter Loop\n",
    "    oTBWriter = SummaryWriter(log_dir = os.path.join('/home/vlad/tmpLogs',TENSOR_BOARD_BASE, f'Model{(ii + 1):03d}'))\n",
    "    oModel = oModel.to(runDevice) #<! Transfer model to device\n",
    "    oOpt = torch.optim.AdamW(oModel.parameters(), lr = 6e-4, betas = (0.9, 0.99), weight_decay = 1e-3) #<! Define optimizer\n",
    "    oRunModel, lTrainLoss, lTrainScore, lValLoss, lValScore , _ = TrainModel(oModel, dlTrain, dlTest, oOpt, nEpochs, hL, hS, oTBWriter = oTBWriter)\n",
    "    oTBWriter.close()\n",
    "#===============================================================#"
   ]
  },
  {
   "cell_type": "markdown",
   "metadata": {},
   "source": [
    "* <font color='brown'>(**#**)</font> Run `tensorboard --logdir=TB` from the Jupyter notebook path.\n",
    "* <font color='green'>(**@**)</font> Optimize the model search to get above 92% accuracy in validation set."
   ]
  },
  {
   "attachments": {
    "image-2.png": {
     "image/png": "[encoded data removed]"
    }
   },
   "cell_type": "markdown",
   "metadata": {},
   "source": [
    "## results: validation score\n",
    "\n",
    "![image-2.png](attachment:image-2.png)"
   ]
  },
  {
   "cell_type": "markdown",
   "metadata": {},
   "source": []
  }
 ],
 "metadata": {
  "kernelspec": {
   "display_name": "Python 3 (ipykernel)",
   "language": "python",
   "name": "python3"
  },
  "toc": {
   "base_numbering": 1,
   "nav_menu": {},
   "number_sections": false,
   "sideBar": true,
   "skip_h1_title": false,
   "title_cell": "Table of Contents",
   "title_sidebar": "Contents",
   "toc_cell": false,
   "toc_position": {},
   "toc_section_display": true,
   "toc_window_display": true
  },
  "varInspector": {
   "cols": {
    "lenName": 16,
    "lenType": 16,
    "lenVar": 40
   },
   "kernels_config": {
    "python": {
     "delete_cmd_postfix": "",
     "delete_cmd_prefix": "del ",
     "library": "var_list.py",
     "varRefreshCmd": "print(var_dic_list())"
    },
    "r": {
     "delete_cmd_postfix": ") ",
     "delete_cmd_prefix": "rm(",
     "library": "var_list.r",
     "varRefreshCmd": "cat(var_dic_list()) "
    }
   },
   "types_to_exclude": [
    "module",
    "function",
    "builtin_function_or_method",
    "instance",
    "_Feature"
   ],
   "window_display": false
  },
  "vscode": {
   "interpreter": {
    "hash": "39577bab1f263e62e0b74f5b8086bd735049bf4751f6562b2d4b2969dc308293"
   }
  }
 },
 "nbformat": 4,
 "nbformat_minor": 4
}